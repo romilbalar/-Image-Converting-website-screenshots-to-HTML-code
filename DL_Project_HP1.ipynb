{
  "nbformat": 4,
  "nbformat_minor": 0,
  "metadata": {
    "colab": {
      "name": "DL_Project-HP1.ipynb",
      "provenance": [],
      "collapsed_sections": []
    },
    "kernelspec": {
      "name": "python3",
      "display_name": "Python 3"
    },
    "language_info": {
      "name": "python"
    },
    "widgets": {
      "application/vnd.jupyter.widget-state+json": {
        "e91f37cc06ba4438b64b2894fd7d41c7": {
          "model_module": "@jupyter-widgets/controls",
          "model_name": "HBoxModel",
          "model_module_version": "1.5.0",
          "state": {
            "_dom_classes": [],
            "_model_module": "@jupyter-widgets/controls",
            "_model_module_version": "1.5.0",
            "_model_name": "HBoxModel",
            "_view_count": null,
            "_view_module": "@jupyter-widgets/controls",
            "_view_module_version": "1.5.0",
            "_view_name": "HBoxView",
            "box_style": "",
            "children": [
              "IPY_MODEL_737212f5ab3d43cc9051e61a295f8183",
              "IPY_MODEL_2016d1325ff14892ada6051400012cf6",
              "IPY_MODEL_da979d4af0a54386b56e47f097293e41"
            ],
            "layout": "IPY_MODEL_7a7461a4a51746dea560f0a02ce2c2f3"
          }
        },
        "737212f5ab3d43cc9051e61a295f8183": {
          "model_module": "@jupyter-widgets/controls",
          "model_name": "HTMLModel",
          "model_module_version": "1.5.0",
          "state": {
            "_dom_classes": [],
            "_model_module": "@jupyter-widgets/controls",
            "_model_module_version": "1.5.0",
            "_model_name": "HTMLModel",
            "_view_count": null,
            "_view_module": "@jupyter-widgets/controls",
            "_view_module_version": "1.5.0",
            "_view_name": "HTMLView",
            "description": "",
            "description_tooltip": null,
            "layout": "IPY_MODEL_f3da2cf1a8e14179a8f849ea050e2e3e",
            "placeholder": "​",
            "style": "IPY_MODEL_b8a1fc79232e4b24b467a4b034d30998",
            "value": "100%"
          }
        },
        "2016d1325ff14892ada6051400012cf6": {
          "model_module": "@jupyter-widgets/controls",
          "model_name": "FloatProgressModel",
          "model_module_version": "1.5.0",
          "state": {
            "_dom_classes": [],
            "_model_module": "@jupyter-widgets/controls",
            "_model_module_version": "1.5.0",
            "_model_name": "FloatProgressModel",
            "_view_count": null,
            "_view_module": "@jupyter-widgets/controls",
            "_view_module_version": "1.5.0",
            "_view_name": "ProgressView",
            "bar_style": "success",
            "description": "",
            "description_tooltip": null,
            "layout": "IPY_MODEL_35ba77b6b78248fe8100647d1580f575",
            "max": 241627721,
            "min": 0,
            "orientation": "horizontal",
            "style": "IPY_MODEL_bce5a86ec9174783acf51e48f5bc826e",
            "value": 241627721
          }
        },
        "da979d4af0a54386b56e47f097293e41": {
          "model_module": "@jupyter-widgets/controls",
          "model_name": "HTMLModel",
          "model_module_version": "1.5.0",
          "state": {
            "_dom_classes": [],
            "_model_module": "@jupyter-widgets/controls",
            "_model_module_version": "1.5.0",
            "_model_name": "HTMLModel",
            "_view_count": null,
            "_view_module": "@jupyter-widgets/controls",
            "_view_module_version": "1.5.0",
            "_view_name": "HTMLView",
            "description": "",
            "description_tooltip": null,
            "layout": "IPY_MODEL_21eef830fcdc496e95af64ebdc660489",
            "placeholder": "​",
            "style": "IPY_MODEL_8ba5d80c1a1c48e48a9ceb2ce3deb28c",
            "value": " 230M/230M [00:02&lt;00:00, 97.8MB/s]"
          }
        },
        "7a7461a4a51746dea560f0a02ce2c2f3": {
          "model_module": "@jupyter-widgets/base",
          "model_name": "LayoutModel",
          "model_module_version": "1.2.0",
          "state": {
            "_model_module": "@jupyter-widgets/base",
            "_model_module_version": "1.2.0",
            "_model_name": "LayoutModel",
            "_view_count": null,
            "_view_module": "@jupyter-widgets/base",
            "_view_module_version": "1.2.0",
            "_view_name": "LayoutView",
            "align_content": null,
            "align_items": null,
            "align_self": null,
            "border": null,
            "bottom": null,
            "display": null,
            "flex": null,
            "flex_flow": null,
            "grid_area": null,
            "grid_auto_columns": null,
            "grid_auto_flow": null,
            "grid_auto_rows": null,
            "grid_column": null,
            "grid_gap": null,
            "grid_row": null,
            "grid_template_areas": null,
            "grid_template_columns": null,
            "grid_template_rows": null,
            "height": null,
            "justify_content": null,
            "justify_items": null,
            "left": null,
            "margin": null,
            "max_height": null,
            "max_width": null,
            "min_height": null,
            "min_width": null,
            "object_fit": null,
            "object_position": null,
            "order": null,
            "overflow": null,
            "overflow_x": null,
            "overflow_y": null,
            "padding": null,
            "right": null,
            "top": null,
            "visibility": null,
            "width": null
          }
        },
        "f3da2cf1a8e14179a8f849ea050e2e3e": {
          "model_module": "@jupyter-widgets/base",
          "model_name": "LayoutModel",
          "model_module_version": "1.2.0",
          "state": {
            "_model_module": "@jupyter-widgets/base",
            "_model_module_version": "1.2.0",
            "_model_name": "LayoutModel",
            "_view_count": null,
            "_view_module": "@jupyter-widgets/base",
            "_view_module_version": "1.2.0",
            "_view_name": "LayoutView",
            "align_content": null,
            "align_items": null,
            "align_self": null,
            "border": null,
            "bottom": null,
            "display": null,
            "flex": null,
            "flex_flow": null,
            "grid_area": null,
            "grid_auto_columns": null,
            "grid_auto_flow": null,
            "grid_auto_rows": null,
            "grid_column": null,
            "grid_gap": null,
            "grid_row": null,
            "grid_template_areas": null,
            "grid_template_columns": null,
            "grid_template_rows": null,
            "height": null,
            "justify_content": null,
            "justify_items": null,
            "left": null,
            "margin": null,
            "max_height": null,
            "max_width": null,
            "min_height": null,
            "min_width": null,
            "object_fit": null,
            "object_position": null,
            "order": null,
            "overflow": null,
            "overflow_x": null,
            "overflow_y": null,
            "padding": null,
            "right": null,
            "top": null,
            "visibility": null,
            "width": null
          }
        },
        "b8a1fc79232e4b24b467a4b034d30998": {
          "model_module": "@jupyter-widgets/controls",
          "model_name": "DescriptionStyleModel",
          "model_module_version": "1.5.0",
          "state": {
            "_model_module": "@jupyter-widgets/controls",
            "_model_module_version": "1.5.0",
            "_model_name": "DescriptionStyleModel",
            "_view_count": null,
            "_view_module": "@jupyter-widgets/base",
            "_view_module_version": "1.2.0",
            "_view_name": "StyleView",
            "description_width": ""
          }
        },
        "35ba77b6b78248fe8100647d1580f575": {
          "model_module": "@jupyter-widgets/base",
          "model_name": "LayoutModel",
          "model_module_version": "1.2.0",
          "state": {
            "_model_module": "@jupyter-widgets/base",
            "_model_module_version": "1.2.0",
            "_model_name": "LayoutModel",
            "_view_count": null,
            "_view_module": "@jupyter-widgets/base",
            "_view_module_version": "1.2.0",
            "_view_name": "LayoutView",
            "align_content": null,
            "align_items": null,
            "align_self": null,
            "border": null,
            "bottom": null,
            "display": null,
            "flex": null,
            "flex_flow": null,
            "grid_area": null,
            "grid_auto_columns": null,
            "grid_auto_flow": null,
            "grid_auto_rows": null,
            "grid_column": null,
            "grid_gap": null,
            "grid_row": null,
            "grid_template_areas": null,
            "grid_template_columns": null,
            "grid_template_rows": null,
            "height": null,
            "justify_content": null,
            "justify_items": null,
            "left": null,
            "margin": null,
            "max_height": null,
            "max_width": null,
            "min_height": null,
            "min_width": null,
            "object_fit": null,
            "object_position": null,
            "order": null,
            "overflow": null,
            "overflow_x": null,
            "overflow_y": null,
            "padding": null,
            "right": null,
            "top": null,
            "visibility": null,
            "width": null
          }
        },
        "bce5a86ec9174783acf51e48f5bc826e": {
          "model_module": "@jupyter-widgets/controls",
          "model_name": "ProgressStyleModel",
          "model_module_version": "1.5.0",
          "state": {
            "_model_module": "@jupyter-widgets/controls",
            "_model_module_version": "1.5.0",
            "_model_name": "ProgressStyleModel",
            "_view_count": null,
            "_view_module": "@jupyter-widgets/base",
            "_view_module_version": "1.2.0",
            "_view_name": "StyleView",
            "bar_color": null,
            "description_width": ""
          }
        },
        "21eef830fcdc496e95af64ebdc660489": {
          "model_module": "@jupyter-widgets/base",
          "model_name": "LayoutModel",
          "model_module_version": "1.2.0",
          "state": {
            "_model_module": "@jupyter-widgets/base",
            "_model_module_version": "1.2.0",
            "_model_name": "LayoutModel",
            "_view_count": null,
            "_view_module": "@jupyter-widgets/base",
            "_view_module_version": "1.2.0",
            "_view_name": "LayoutView",
            "align_content": null,
            "align_items": null,
            "align_self": null,
            "border": null,
            "bottom": null,
            "display": null,
            "flex": null,
            "flex_flow": null,
            "grid_area": null,
            "grid_auto_columns": null,
            "grid_auto_flow": null,
            "grid_auto_rows": null,
            "grid_column": null,
            "grid_gap": null,
            "grid_row": null,
            "grid_template_areas": null,
            "grid_template_columns": null,
            "grid_template_rows": null,
            "height": null,
            "justify_content": null,
            "justify_items": null,
            "left": null,
            "margin": null,
            "max_height": null,
            "max_width": null,
            "min_height": null,
            "min_width": null,
            "object_fit": null,
            "object_position": null,
            "order": null,
            "overflow": null,
            "overflow_x": null,
            "overflow_y": null,
            "padding": null,
            "right": null,
            "top": null,
            "visibility": null,
            "width": null
          }
        },
        "8ba5d80c1a1c48e48a9ceb2ce3deb28c": {
          "model_module": "@jupyter-widgets/controls",
          "model_name": "DescriptionStyleModel",
          "model_module_version": "1.5.0",
          "state": {
            "_model_module": "@jupyter-widgets/controls",
            "_model_module_version": "1.5.0",
            "_model_name": "DescriptionStyleModel",
            "_view_count": null,
            "_view_module": "@jupyter-widgets/base",
            "_view_module_version": "1.2.0",
            "_view_name": "StyleView",
            "description_width": ""
          }
        }
      }
    }
  },
  "cells": [
    {
      "cell_type": "code",
      "execution_count": null,
      "metadata": {
        "id": "lY4jGZq43C16"
      },
      "outputs": [],
      "source": [
        "import pdb\n",
        "import os\n",
        "import torch\n",
        "import torchvision\n",
        "from torch.autograd import Variable\n",
        "import torch.nn as nn\n",
        "import torch.nn.functional as F\n",
        "import torch.optim as optim\n",
        "from torch.utils.data import Dataset, DataLoader\n",
        "from torchvision import datasets, models, transforms\n",
        "import numpy as np\n",
        "from PIL import Image"
      ]
    },
    {
      "cell_type": "code",
      "source": [
        "import os\n",
        "import random\n",
        "from tqdm import tqdm\n",
        "from shutil import copyfile"
      ],
      "metadata": {
        "id": "tPUZu6ajvqJD"
      },
      "execution_count": null,
      "outputs": []
    },
    {
      "cell_type": "code",
      "source": [
        "base_path = \"/content/drive/MyDrive/DL/final_project/pix2code\""
      ],
      "metadata": {
        "id": "KqykLIsgn4po"
      },
      "execution_count": null,
      "outputs": []
    },
    {
      "cell_type": "code",
      "source": [
        "from google.colab import drive\n",
        "drive.mount('/content/drive')"
      ],
      "metadata": {
        "colab": {
          "base_uri": "https://localhost:8080/"
        },
        "id": "of8f7iQDDb4Z",
        "outputId": "413e1231-3643-4eae-9127-d9656a42dae1"
      },
      "execution_count": null,
      "outputs": [
        {
          "output_type": "stream",
          "name": "stdout",
          "text": [
            "Mounted at /content/drive\n"
          ]
        }
      ]
    },
    {
      "cell_type": "code",
      "source": [
        "# Hyperparams\n",
        "batch_size = 4\n",
        "embed_size = 256\n",
        "num_epochs = 100\n",
        "learning_rate = 0.001\n",
        "hidden_size = 512\n",
        "num_layers = 1\n",
        "\n",
        "# Other params\n",
        "shuffle = True\n",
        "num_workers = 2\n",
        "\n",
        "# Logging Variables\n",
        "save_after_x_epochs = 2\n",
        "log_step = 1\n",
        "\n",
        "# Paths\n",
        "data_dir = base_path+'/datasets/web/processed_data/data_train/' \n",
        "model_path = base_path+'/model/'\n",
        "vocab_path = base_path+'/bootstrap.vocab'\n",
        "crop_size = 224 # Required by resnet152"
      ],
      "metadata": {
        "id": "m9UBv54XDBlF"
      },
      "execution_count": null,
      "outputs": []
    },
    {
      "cell_type": "code",
      "source": [
        "base_path"
      ],
      "metadata": {
        "colab": {
          "base_uri": "https://localhost:8080/",
          "height": 35
        },
        "id": "ZcD1aqHXqWdK",
        "outputId": "27cf246c-ca09-4e18-995b-fe048e013bcf"
      },
      "execution_count": null,
      "outputs": [
        {
          "output_type": "execute_result",
          "data": {
            "text/plain": [
              "'/content/drive/MyDrive/DL/final_project/pix2code'"
            ],
            "application/vnd.google.colaboratory.intrinsic+json": {
              "type": "string"
            }
          },
          "metadata": {},
          "execution_count": 6
        }
      ]
    },
    {
      "cell_type": "markdown",
      "source": [
        "Load Data"
      ],
      "metadata": {
        "id": "z2hEBQJcoswB"
      }
    },
    {
      "cell_type": "code",
      "source": [
        "raw_data_dir = data_dir\n",
        "output_dir = base_path+'/datasets/web/processed_data/'\n",
        "filenames = os.listdir(raw_data_dir)\n",
        "\n",
        "filenames = [(f[:-3] + 'gui', f[:-3] + 'png') for f in filenames if f.endswith('.gui')]\n",
        "\n",
        "filenames.sort()\n",
        "random.shuffle(filenames)\n",
        "\n",
        "split_1 = int(0.8 * len(filenames))\n",
        "split_2 = int(0.9 * len(filenames))\n",
        "\n",
        "filenames = {\n",
        "    'train': filenames[:split_1],\n",
        "    'dev': filenames[split_1:split_2],\n",
        "    'test': filenames[split_2:]\n",
        "}\n",
        "\n",
        "if not os.path.exists(output_dir):\n",
        "    os.mkdir(output_dir)\n",
        "else:\n",
        "    print('Warning: output dir {} already exists.'.format(output_dir))\n",
        "\n",
        "for split in ['train', 'dev', 'test']:\n",
        "    output_dir_split = os.path.join(output_dir, 'data_{}'.format(split))\n",
        "    \n",
        "    if not os.path.exists(output_dir_split):\n",
        "        os.mkdir(output_dir_split)\n",
        "    else:\n",
        "        print('Warning: output dir {} already exists.'.format(output_dir_split))\n",
        "        \n",
        "    print('Processing {} data, saving to {}.'.format(split, output_dir_split))\n",
        "    \n",
        "    for (gui, png) in tqdm(filenames[split]):\n",
        "        src_path_gui = os.path.join(raw_data_dir, gui)\n",
        "        output_path_gui = os.path.join(output_dir_split, gui)\n",
        "        src_path_png = os.path.join(raw_data_dir, png)\n",
        "        output_path_png = os.path.join(output_dir_split, png)\n",
        "        \n",
        "        copyfile(src_path_gui, output_path_gui)\n",
        "        copyfile(src_path_png, output_path_png)"
      ],
      "metadata": {
        "id": "R1LD_ezhouYl"
      },
      "execution_count": null,
      "outputs": []
    },
    {
      "cell_type": "markdown",
      "source": [
        "Build Vocab"
      ],
      "metadata": {
        "id": "IeK-pHT-FsDp"
      }
    },
    {
      "cell_type": "code",
      "source": [
        "def load_doc(filename):\n",
        "    file = open(filename, 'r')\n",
        "    text = file.read()\n",
        "    file.close()\n",
        "    return text"
      ],
      "metadata": {
        "id": "-YSrvMG5FtEc"
      },
      "execution_count": null,
      "outputs": []
    },
    {
      "cell_type": "code",
      "source": [
        "class Vocabulary (object):\n",
        "    def __init__ (self):\n",
        "        self.word2idx = {}\n",
        "        self.idx2word = {}\n",
        "        self.idx = 0\n",
        "        \n",
        "    def add_word (self, word):\n",
        "        if not word in self.word2idx:\n",
        "            self.word2idx[word] = self.idx\n",
        "            self.idx2word[self.idx] = word\n",
        "            self.idx += 1\n",
        "    \n",
        "    def __call__ (self, word):\n",
        "        if not word in self.word2idx:\n",
        "            return self.word2idx['<unk>']\n",
        "        return self.word2idx[word]\n",
        "    \n",
        "    def __len__ (self):\n",
        "        return len(self.word2idx)"
      ],
      "metadata": {
        "id": "Adxv6l4MFt00"
      },
      "execution_count": null,
      "outputs": []
    },
    {
      "cell_type": "code",
      "source": [
        "def build_vocab (vocab_file_path):\n",
        "    vocab = Vocabulary()\n",
        "\n",
        "    words_raw = load_doc(vocab_file_path)\n",
        "    words = set(words_raw.split(' '))\n",
        "    \n",
        "    for i, word in enumerate(words):\n",
        "        vocab.add_word(word)\n",
        "\n",
        "    vocab.add_word(' ')\n",
        "    vocab.add_word('<unk>')\n",
        "    \n",
        "    print('Created vocabulary')\n",
        "    \n",
        "    return vocab"
      ],
      "metadata": {
        "id": "_XVt73RCFwXs"
      },
      "execution_count": null,
      "outputs": []
    },
    {
      "cell_type": "code",
      "source": [
        "vocab = build_vocab(vocab_path)\n",
        "vocab_size = len(vocab)"
      ],
      "metadata": {
        "colab": {
          "base_uri": "https://localhost:8080/"
        },
        "id": "sSKk32g8FyRx",
        "outputId": "ac60e83f-60a0-459b-b123-9c960fb77e50"
      },
      "execution_count": null,
      "outputs": [
        {
          "output_type": "stream",
          "name": "stdout",
          "text": [
            "Created vocabulary\n"
          ]
        }
      ]
    },
    {
      "cell_type": "markdown",
      "source": [
        "Build Images and Captions"
      ],
      "metadata": {
        "id": "dV9Z0q0CF6aH"
      }
    },
    {
      "cell_type": "code",
      "source": [
        "class ImageHTMLDataSet (Dataset):\n",
        "    def __init__ (self, data_dir, vocab, transform):\n",
        "        self.data_dir = data_dir\n",
        "        self.vocab = vocab\n",
        "        self.transform = transform\n",
        "        \n",
        "        self.raw_image_names = []\n",
        "        self.raw_captions = []\n",
        "        \n",
        "        self.filenames = os.listdir(data_dir)\n",
        "        self.filenames.sort()\n",
        "        \n",
        "        for filename in self.filenames:\n",
        "            if filename[-3:] == 'png':\n",
        "                self.raw_image_names.append(filename)\n",
        "            elif filename[-3:] == 'gui':\n",
        "                data = load_doc(data_dir + filename)\n",
        "                self.raw_captions.append(data)\n",
        "                \n",
        "        print('Created dataset of ' + str(len(self)) + ' items from ' + data_dir)\n",
        "\n",
        "    def __len__ (self):\n",
        "        return len(self.raw_image_names)\n",
        "    \n",
        "    def __getitem__ (self, idx):\n",
        "        img_path, raw_caption = self.raw_image_names[idx], self.raw_captions[idx]\n",
        "        \n",
        "        image = Image.open(os.path.join(self.data_dir, img_path)).convert('RGB')\n",
        "        image = self.transform(image)\n",
        "        \n",
        "        caption = []\n",
        "        caption.append(self.vocab('<START>'))\n",
        "        \n",
        "        tokens = ' '.join(raw_caption.split())\n",
        "\n",
        "        tokens = tokens.replace(',', ' ,')\n",
        "\n",
        "        tokens = tokens.split(' ')\n",
        "        \n",
        "        caption.extend([self.vocab(token) for token in tokens])\n",
        "        caption.append(self.vocab('<END>'))\n",
        "        \n",
        "        target = torch.Tensor(caption)\n",
        "        \n",
        "        return image, target\n",
        "\n",
        "def collate_fn (data):\n",
        "    data.sort(key = lambda data_pair: len(data_pair[1]), reverse=True)\n",
        "    images, captions = zip(*data)\n",
        "\n",
        "    images = torch.stack(images, 0)\n",
        "    \n",
        "    lengths = [len(caption) for caption in captions] \n",
        "    targets = torch.zeros(len(captions), max(lengths)).long()\n",
        "    \n",
        "    for i, caption in enumerate(captions):\n",
        "        end = lengths[i]\n",
        "        targets[i, :end] = caption[:end]\n",
        "        \n",
        "    return images, targets, lengths"
      ],
      "metadata": {
        "id": "XvHgcoRaF4Yv"
      },
      "execution_count": null,
      "outputs": []
    },
    {
      "cell_type": "code",
      "source": [
        "transform = transforms.Compose([\n",
        "    transforms.Resize((crop_size, crop_size)), #resnet size\n",
        "    transforms.ToTensor(),\n",
        "    transforms.Normalize(mean=[0.485, 0.456, 0.406], std=[0.229, 0.224, 0.225])\n",
        "])\n",
        "\n",
        "img_html_dataset = ImageHTMLDataSet(data_dir=data_dir, vocab=vocab, transform=transform)\n",
        "data_loader = DataLoader(dataset=img_html_dataset,\n",
        "                         batch_size=batch_size,\n",
        "                         shuffle=shuffle,\n",
        "                         num_workers=num_workers,\n",
        "                         collate_fn=collate_fn,drop_last=True)"
      ],
      "metadata": {
        "id": "jLY7DK1uGCzo",
        "colab": {
          "base_uri": "https://localhost:8080/"
        },
        "outputId": "f5ae0d76-884f-4371-e5e6-dd0233da37ca"
      },
      "execution_count": null,
      "outputs": [
        {
          "output_type": "stream",
          "name": "stdout",
          "text": [
            "Created dataset of 1393 items from /content/drive/MyDrive/DL/final_project/pix2code/datasets/web/processed_data/data_train/\n"
          ]
        }
      ]
    },
    {
      "cell_type": "markdown",
      "source": [
        "Encoder"
      ],
      "metadata": {
        "id": "csUCWAiQGL1h"
      }
    },
    {
      "cell_type": "code",
      "source": [
        "class EncoderCNN (nn.Module):\n",
        "    def __init__ (self, embed_size):\n",
        "        super(EncoderCNN, self).__init__()\n",
        "        \n",
        "        resnet = models.resnet152(pretrained = True)\n",
        "        \n",
        "        modules = list(resnet.children())[:-1]\n",
        "        self.resnet = nn.Sequential(*modules)\n",
        "        \n",
        "        self.linear = nn.Linear(in_features = resnet.fc.in_features, out_features = embed_size)\n",
        "        self.bn = nn.BatchNorm1d(num_features = embed_size, momentum = 0.01)\n",
        "        \n",
        "        print('Encoder created' + str(embed_size))\n",
        "\n",
        "    def forward (self, images):\n",
        "        features = self.resnet(images)\n",
        "        features = features.view(features.size(0), -1)        \n",
        "        features = self.linear(features)        \n",
        "        features = self.bn(features)        \n",
        "        return features"
      ],
      "metadata": {
        "id": "PSinwdWtGLd1"
      },
      "execution_count": null,
      "outputs": []
    },
    {
      "cell_type": "code",
      "source": [
        "class DecoderRNN (nn.Module):\n",
        "    def __init__ (self, embed_size, hidden_size, vocab_size, num_layers):\n",
        "        super(DecoderRNN, self).__init__()\n",
        "        \n",
        "        self.embed = nn.Embedding(num_embeddings = vocab_size, embedding_dim = embed_size)\n",
        "        self.lstm = nn.LSTM(input_size = embed_size, hidden_size = hidden_size, num_layers = num_layers, batch_first=True)\n",
        "        self.linear = nn.Linear(in_features = hidden_size, out_features = vocab_size)        \n",
        "        self.embed_size = embed_size        \n",
        "        print('Decoder created.')\n",
        "        \n",
        "    def forward (self, features, captions, lengths):\n",
        "        embeddings = self.embed(captions)\n",
        "        \n",
        "        features = features.unsqueeze(1) \n",
        "        \n",
        "        embeddings = torch.cat((features, embeddings), 1)\n",
        "        \n",
        "        packed = nn.utils.rnn.pack_padded_sequence(input = embeddings, lengths = lengths, batch_first = True)\n",
        "        \n",
        "        hiddens, _ = self.lstm(packed)\n",
        "        \n",
        "        outputs = self.linear(hiddens[0])\n",
        "        \n",
        "        return outputs\n",
        "\n",
        "    def sample (self, features,greedy=False,states=None):\n",
        "        sampled_ids = []\n",
        "        inputs = features.unsqueeze(1)\n",
        "        \n",
        "        if greedy:\n",
        "          iters=1\n",
        "        else:\n",
        "          iters=100\n",
        "\n",
        "        for i in range(iters):\n",
        "            hiddens, states = self.lstm(inputs, states)\n",
        "            outputs = self.linear(hiddens.squeeze(1))\n",
        "            predicted = outputs.max(dim = 1, keepdim = True)[1]\n",
        "            sampled_ids.append(predicted)\n",
        "            inputs = self.embed(predicted)\n",
        "            inputs = inputs.view(-1, 1, self.embed_size)\n",
        "\n",
        "        sampled_ids = torch.cat(sampled_ids, 1)\n",
        "\n",
        "        return sampled_ids.squeeze()"
      ],
      "metadata": {
        "id": "-a46klCmGPAD"
      },
      "execution_count": null,
      "outputs": []
    },
    {
      "cell_type": "code",
      "source": [
        "encoder = EncoderCNN(embed_size)\n",
        "decoder = DecoderRNN(embed_size, hidden_size, vocab_size, num_layers)\n",
        "\n",
        "criterion = nn.CrossEntropyLoss()\n",
        "params = list(decoder.parameters()) + list(encoder.linear.parameters()) + list(encoder.bn.parameters())\n",
        "optimizer = torch.optim.Adam(params, lr = learning_rate)\n",
        "\n",
        "if torch.cuda.is_available():\n",
        "    encoder.cuda()\n",
        "    decoder.cuda()\n",
        "    print('CUDA activated.')"
      ],
      "metadata": {
        "colab": {
          "base_uri": "https://localhost:8080/",
          "height": 118,
          "referenced_widgets": [
            "e91f37cc06ba4438b64b2894fd7d41c7",
            "737212f5ab3d43cc9051e61a295f8183",
            "2016d1325ff14892ada6051400012cf6",
            "da979d4af0a54386b56e47f097293e41",
            "7a7461a4a51746dea560f0a02ce2c2f3",
            "f3da2cf1a8e14179a8f849ea050e2e3e",
            "b8a1fc79232e4b24b467a4b034d30998",
            "35ba77b6b78248fe8100647d1580f575",
            "bce5a86ec9174783acf51e48f5bc826e",
            "21eef830fcdc496e95af64ebdc660489",
            "8ba5d80c1a1c48e48a9ceb2ce3deb28c"
          ]
        },
        "id": "laOgGWsUGSl_",
        "outputId": "5066b96b-450a-4530-f389-eea264a22e44"
      },
      "execution_count": null,
      "outputs": [
        {
          "output_type": "stream",
          "name": "stderr",
          "text": [
            "Downloading: \"https://download.pytorch.org/models/resnet152-394f9c45.pth\" to /root/.cache/torch/hub/checkpoints/resnet152-394f9c45.pth\n"
          ]
        },
        {
          "output_type": "display_data",
          "data": {
            "text/plain": [
              "  0%|          | 0.00/230M [00:00<?, ?B/s]"
            ],
            "application/vnd.jupyter.widget-view+json": {
              "version_major": 2,
              "version_minor": 0,
              "model_id": "e91f37cc06ba4438b64b2894fd7d41c7"
            }
          },
          "metadata": {}
        },
        {
          "output_type": "stream",
          "name": "stdout",
          "text": [
            "Encoder created256\n",
            "Decoder created.\n",
            "CUDA activated.\n"
          ]
        }
      ]
    },
    {
      "cell_type": "code",
      "source": [
        "import time"
      ],
      "metadata": {
        "id": "dESU_oZkDD-f"
      },
      "execution_count": null,
      "outputs": []
    },
    {
      "cell_type": "code",
      "source": [
        "from collections import defaultdict\n",
        "history = defaultdict()"
      ],
      "metadata": {
        "id": "OnL5kpJQDsQH"
      },
      "execution_count": null,
      "outputs": []
    },
    {
      "cell_type": "code",
      "source": [
        "history['loss'] = []\n",
        "history['perp'] = []\n",
        "history['time'] = []"
      ],
      "metadata": {
        "id": "_HqH5Ax4EFQp"
      },
      "execution_count": null,
      "outputs": []
    },
    {
      "cell_type": "code",
      "source": [
        "encoder.train()\n",
        "decoder.train()\n",
        "\n",
        "start_time = time.time()\n",
        "batch_count = len(data_loader)\n",
        "\n",
        "for epoch in range(30):\n",
        "    for i, (images, captions, lengths) in enumerate(data_loader):\n",
        "        images = Variable(images.cuda())\n",
        "        captions = Variable(captions.cuda())\n",
        "        targets = nn.utils.rnn.pack_padded_sequence(input = captions, lengths = lengths, batch_first = True)[0]\n",
        "\n",
        "        encoder.zero_grad()\n",
        "        decoder.zero_grad()\n",
        "\n",
        "        features = encoder(images) \n",
        "        outputs = decoder(features, captions, lengths)\n",
        "\n",
        "        loss = criterion(outputs, targets)\n",
        "        loss.backward()\n",
        "\n",
        "        optimizer.step()\n",
        "\n",
        "        if epoch % log_step == 0 and i == 0:\n",
        "            history['loss'].append(loss.item())\n",
        "            history['perp'].append(np.exp(loss.item()))\n",
        "            history['time'].append(time.time())\n",
        "            print('Epoch - #%d, Loss: %.4f, Perplexity: %5.4f'\n",
        "                  % (epoch, loss.item(), np.exp(loss.item())))\n",
        "            \n",
        "        if (epoch + 1) % save_after_x_epochs == 0 and i == 0:\n",
        "            # Save our models\n",
        "            print('Saving model: ' + str(epoch))\n",
        "            torch.save(decoder.state_dict(),os.path.join(model_path, 'decoder-hp1-%d-%d.pkl' %(epoch+1, i+1)))\n",
        "            torch.save(encoder.state_dict(), os.path.join(model_path, 'encoder-hp1-%d-%d.pkl' %(epoch+1, i+1)))"
      ],
      "metadata": {
        "id": "z3nu2vYMGW4l",
        "colab": {
          "base_uri": "https://localhost:8080/"
        },
        "outputId": "e6bbc7d5-9b89-4d97-cc17-f67f6fa45f5c"
      },
      "execution_count": null,
      "outputs": [
        {
          "output_type": "stream",
          "name": "stdout",
          "text": [
            "Epoch - #0, Loss: 2.9563, Perplexity: 19.2269\n",
            "Epoch - #1, Loss: 0.1815, Perplexity: 1.1990\n",
            "Saving model: 1\n",
            "Epoch - #2, Loss: 0.1815, Perplexity: 1.1991\n",
            "Epoch - #3, Loss: 0.1591, Perplexity: 1.1724\n",
            "Saving model: 3\n",
            "Epoch - #4, Loss: 0.1516, Perplexity: 1.1637\n",
            "Epoch - #5, Loss: 0.2176, Perplexity: 1.2431\n",
            "Saving model: 5\n",
            "Epoch - #6, Loss: 0.1363, Perplexity: 1.1460\n",
            "Epoch - #7, Loss: 0.1408, Perplexity: 1.1512\n",
            "Saving model: 7\n",
            "Epoch - #8, Loss: 0.1429, Perplexity: 1.1536\n",
            "Epoch - #9, Loss: 0.1268, Perplexity: 1.1352\n",
            "Saving model: 9\n",
            "Epoch - #10, Loss: 0.1477, Perplexity: 1.1591\n",
            "Epoch - #11, Loss: 0.1522, Perplexity: 1.1644\n",
            "Saving model: 11\n",
            "Epoch - #12, Loss: 0.1275, Perplexity: 1.1360\n",
            "Epoch - #13, Loss: 0.1098, Perplexity: 1.1160\n",
            "Saving model: 13\n",
            "Epoch - #14, Loss: 0.1322, Perplexity: 1.1413\n",
            "Epoch - #15, Loss: 0.1160, Perplexity: 1.1230\n",
            "Saving model: 15\n",
            "Epoch - #16, Loss: 0.1213, Perplexity: 1.1289\n",
            "Epoch - #17, Loss: 0.1041, Perplexity: 1.1098\n",
            "Saving model: 17\n",
            "Epoch - #18, Loss: 0.1205, Perplexity: 1.1280\n",
            "Epoch - #19, Loss: 0.1156, Perplexity: 1.1225\n",
            "Saving model: 19\n",
            "Epoch - #20, Loss: 0.1174, Perplexity: 1.1246\n",
            "Epoch - #21, Loss: 0.1387, Perplexity: 1.1488\n",
            "Saving model: 21\n",
            "Epoch - #22, Loss: 0.1141, Perplexity: 1.1209\n",
            "Epoch - #23, Loss: 0.1134, Perplexity: 1.1201\n",
            "Saving model: 23\n",
            "Epoch - #24, Loss: 0.1094, Perplexity: 1.1156\n",
            "Epoch - #25, Loss: 0.1139, Perplexity: 1.1206\n",
            "Saving model: 25\n",
            "Epoch - #26, Loss: 0.1285, Perplexity: 1.1371\n",
            "Epoch - #27, Loss: 0.1142, Perplexity: 1.1210\n",
            "Saving model: 27\n",
            "Epoch - #28, Loss: 0.1096, Perplexity: 1.1158\n",
            "Epoch - #29, Loss: 0.1261, Perplexity: 1.1344\n",
            "Saving model: 29\n"
          ]
        }
      ]
    },
    {
      "cell_type": "markdown",
      "source": [
        "Eval"
      ],
      "metadata": {
        "id": "8vvSXlSnGgNs"
      }
    },
    {
      "cell_type": "code",
      "source": [
        "from nltk.translate.bleu_score import corpus_bleu"
      ],
      "metadata": {
        "id": "VgAY2yCpGgoR"
      },
      "execution_count": null,
      "outputs": []
    },
    {
      "cell_type": "code",
      "source": [
        "def transform_idx_to_words (input):\n",
        "    sampled_caption = []\n",
        "    \n",
        "    for idx in input:\n",
        "        word = vocab.idx2word[idx]\n",
        "        sampled_caption.append(word)\n",
        "\n",
        "        if word == '<END>':\n",
        "            break\n",
        "\n",
        "    output = ' '.join(sampled_caption[1:-1])\n",
        "\n",
        "    output = output.replace(' ,', ',')\n",
        "\n",
        "    return output.split(' ')"
      ],
      "metadata": {
        "id": "xqOfwGilGihO"
      },
      "execution_count": null,
      "outputs": []
    },
    {
      "cell_type": "code",
      "source": [
        "models_to_test = [str(i)+\"-1\" for i in range(2,31,2)]"
      ],
      "metadata": {
        "id": "7QcoqcClQHSQ"
      },
      "execution_count": null,
      "outputs": []
    },
    {
      "cell_type": "code",
      "source": [
        "models_to_test"
      ],
      "metadata": {
        "colab": {
          "base_uri": "https://localhost:8080/"
        },
        "id": "Txu9KvzQQZmI",
        "outputId": "0990a2f8-a11f-41d4-b23b-739dcbbcfdad"
      },
      "execution_count": null,
      "outputs": [
        {
          "output_type": "execute_result",
          "data": {
            "text/plain": [
              "['2-1',\n",
              " '4-1',\n",
              " '6-1',\n",
              " '8-1',\n",
              " '10-1',\n",
              " '12-1',\n",
              " '14-1',\n",
              " '16-1',\n",
              " '18-1',\n",
              " '20-1',\n",
              " '22-1',\n",
              " '24-1',\n",
              " '26-1',\n",
              " '28-1',\n",
              " '30-1']"
            ]
          },
          "metadata": {},
          "execution_count": 40
        }
      ]
    },
    {
      "cell_type": "code",
      "source": [
        "dev_data_dir = base_path+'/datasets/web/processed_data/data_dev/'"
      ],
      "metadata": {
        "id": "uEJ6mc-iGmG1"
      },
      "execution_count": null,
      "outputs": []
    },
    {
      "cell_type": "code",
      "source": [
        "from collections import defaultdict"
      ],
      "metadata": {
        "id": "sWa_npsl5Ud2"
      },
      "execution_count": null,
      "outputs": []
    },
    {
      "cell_type": "code",
      "source": [
        "bleu_scores = []\n",
        "predicted=defaultdict(list)\n",
        "actual=defaultdict(list)\n",
        "for model_idx, model_name in enumerate(models_to_test):\n",
        "    encoder_model_path = os.path.join(model_path, 'encoder-hp1-{}.pkl'.format(model_name))\n",
        "    decoder_model_path = os.path.join(model_path, 'decoder-hp1-{}.pkl'.format(model_name))\n",
        "    \n",
        "    dev_img_html_dataset = ImageHTMLDataSet(data_dir=dev_data_dir, vocab=vocab, transform=transform)\n",
        "    \n",
        "    dev_data_loader = DataLoader(dataset=dev_img_html_dataset,\n",
        "                             batch_size=1,\n",
        "                             shuffle=shuffle,\n",
        "                             num_workers=num_workers,\n",
        "                             collate_fn=collate_fn, drop_last= True)\n",
        "    \n",
        "    dev_encoder = EncoderCNN(embed_size)\n",
        "    dev_decoder = DecoderRNN(embed_size, hidden_size, len(vocab), num_layers)\n",
        "\n",
        "    dev_encoder.load_state_dict(torch.load(encoder_model_path))\n",
        "    dev_decoder.load_state_dict(torch.load(decoder_model_path))\n",
        "\n",
        "    if torch.cuda.is_available():\n",
        "        dev_encoder.cuda()\n",
        "        dev_decoder.cuda()\n",
        "\n",
        "    dev_encoder.eval()\n",
        "    dev_decoder.eval()\n",
        "    \n",
        "    dev_data_count = len(dev_data_loader.dataset)\n",
        "\n",
        "\n",
        "    for i in range(dev_data_count):\n",
        "        image, caption = dev_data_loader.dataset.__getitem__(i)\n",
        "        image_tensor = Variable(image.unsqueeze(0).cuda())\n",
        "\n",
        "        features = dev_encoder(image_tensor)\n",
        "\n",
        "        sampled_ids = dev_decoder.sample(features)\n",
        "        sampled_ids = sampled_ids.cpu().data.numpy()\n",
        "\n",
        "        predicted[model_idx].append(sampled_ids)\n",
        "        actual[model_idx].append(list(caption.numpy()))\n",
        "\n",
        "    predicted[model_idx] = [transform_idx_to_words(item) for item in predicted[model_idx]]\n",
        "    actual[model_idx] = [[transform_idx_to_words(item)] for item in actual[model_idx]]\n",
        "    \n",
        "    bleu = corpus_bleu(actual[model_idx], predicted[model_idx])\n",
        "    \n",
        "    bleu_scores.append((model_name, bleu))\n",
        "\n",
        "    print('done with {} items for model: {}'.format(str(len(predicted[model_idx])), model_name))"
      ],
      "metadata": {
        "colab": {
          "base_uri": "https://localhost:8080/"
        },
        "id": "6zJ2C__Txa8F",
        "outputId": "fe9b7362-517d-4cf2-fa37-25cd3b6a1549"
      },
      "execution_count": null,
      "outputs": [
        {
          "output_type": "stream",
          "name": "stdout",
          "text": [
            "Created dataset of 174 items from /content/drive/MyDrive/DL/final_project/pix2code/datasets/web/processed_data/data_dev/\n",
            "EncoderCNN created with embed_size: 256\n",
            "DecoderRNN created with embed_size: 256\n"
          ]
        },
        {
          "output_type": "stream",
          "name": "stderr",
          "text": [
            "/usr/local/lib/python3.7/dist-packages/nltk/translate/bleu_score.py:490: UserWarning: \n",
            "Corpus/Sentence contains 0 counts of 3-gram overlaps.\n",
            "BLEU scores might be undesirable; use SmoothingFunction().\n",
            "  warnings.warn(_msg)\n"
          ]
        },
        {
          "output_type": "stream",
          "name": "stdout",
          "text": [
            "done with 174 items for model: 2-1\n",
            "Created dataset of 174 items from /content/drive/MyDrive/DL/final_project/pix2code/datasets/web/processed_data/data_dev/\n",
            "EncoderCNN created with embed_size: 256\n",
            "DecoderRNN created with embed_size: 256\n",
            "done with 174 items for model: 4-1\n",
            "Created dataset of 174 items from /content/drive/MyDrive/DL/final_project/pix2code/datasets/web/processed_data/data_dev/\n",
            "EncoderCNN created with embed_size: 256\n",
            "DecoderRNN created with embed_size: 256\n",
            "done with 174 items for model: 6-1\n",
            "Created dataset of 174 items from /content/drive/MyDrive/DL/final_project/pix2code/datasets/web/processed_data/data_dev/\n",
            "EncoderCNN created with embed_size: 256\n",
            "DecoderRNN created with embed_size: 256\n",
            "done with 174 items for model: 8-1\n",
            "Created dataset of 174 items from /content/drive/MyDrive/DL/final_project/pix2code/datasets/web/processed_data/data_dev/\n",
            "EncoderCNN created with embed_size: 256\n",
            "DecoderRNN created with embed_size: 256\n",
            "done with 174 items for model: 10-1\n",
            "Created dataset of 174 items from /content/drive/MyDrive/DL/final_project/pix2code/datasets/web/processed_data/data_dev/\n",
            "EncoderCNN created with embed_size: 256\n",
            "DecoderRNN created with embed_size: 256\n",
            "done with 174 items for model: 12-1\n",
            "Created dataset of 174 items from /content/drive/MyDrive/DL/final_project/pix2code/datasets/web/processed_data/data_dev/\n",
            "EncoderCNN created with embed_size: 256\n",
            "DecoderRNN created with embed_size: 256\n",
            "done with 174 items for model: 14-1\n",
            "Created dataset of 174 items from /content/drive/MyDrive/DL/final_project/pix2code/datasets/web/processed_data/data_dev/\n",
            "EncoderCNN created with embed_size: 256\n",
            "DecoderRNN created with embed_size: 256\n",
            "done with 174 items for model: 16-1\n",
            "Created dataset of 174 items from /content/drive/MyDrive/DL/final_project/pix2code/datasets/web/processed_data/data_dev/\n",
            "EncoderCNN created with embed_size: 256\n",
            "DecoderRNN created with embed_size: 256\n",
            "done with 174 items for model: 18-1\n",
            "Created dataset of 174 items from /content/drive/MyDrive/DL/final_project/pix2code/datasets/web/processed_data/data_dev/\n",
            "EncoderCNN created with embed_size: 256\n",
            "DecoderRNN created with embed_size: 256\n",
            "done with 174 items for model: 20-1\n",
            "Created dataset of 174 items from /content/drive/MyDrive/DL/final_project/pix2code/datasets/web/processed_data/data_dev/\n",
            "EncoderCNN created with embed_size: 256\n",
            "DecoderRNN created with embed_size: 256\n",
            "done with 174 items for model: 22-1\n",
            "Created dataset of 174 items from /content/drive/MyDrive/DL/final_project/pix2code/datasets/web/processed_data/data_dev/\n",
            "EncoderCNN created with embed_size: 256\n",
            "DecoderRNN created with embed_size: 256\n",
            "done with 174 items for model: 24-1\n",
            "Created dataset of 174 items from /content/drive/MyDrive/DL/final_project/pix2code/datasets/web/processed_data/data_dev/\n",
            "EncoderCNN created with embed_size: 256\n",
            "DecoderRNN created with embed_size: 256\n",
            "done with 174 items for model: 26-1\n",
            "Created dataset of 174 items from /content/drive/MyDrive/DL/final_project/pix2code/datasets/web/processed_data/data_dev/\n",
            "EncoderCNN created with embed_size: 256\n",
            "DecoderRNN created with embed_size: 256\n",
            "done with 174 items for model: 28-1\n",
            "Created dataset of 174 items from /content/drive/MyDrive/DL/final_project/pix2code/datasets/web/processed_data/data_dev/\n",
            "EncoderCNN created with embed_size: 256\n",
            "DecoderRNN created with embed_size: 256\n",
            "done with 174 items for model: 30-1\n"
          ]
        }
      ]
    },
    {
      "cell_type": "code",
      "source": [
        "history['bleu'] = bleu_scores"
      ],
      "metadata": {
        "id": "pge9gdU4ShIP"
      },
      "execution_count": null,
      "outputs": []
    },
    {
      "cell_type": "code",
      "source": [
        "time_diff = [x - start_time for x in history['time']]"
      ],
      "metadata": {
        "id": "6SJFhJ9ASomX"
      },
      "execution_count": null,
      "outputs": []
    },
    {
      "cell_type": "code",
      "source": [
        "history['epoch_time'] = time_diff"
      ],
      "metadata": {
        "id": "7vlaJXLCTCer"
      },
      "execution_count": null,
      "outputs": []
    },
    {
      "cell_type": "code",
      "source": [
        "import json\n",
        "\n",
        "with open(base_path+'/saved_results_hp1.json','w') as f:\n",
        "  json.dump(predicted,f)\n",
        "\n"
      ],
      "metadata": {
        "id": "Zt2TeMTC5pXT"
      },
      "execution_count": null,
      "outputs": []
    },
    {
      "cell_type": "code",
      "source": [
        "import matplotlib.pyplot as plt"
      ],
      "metadata": {
        "id": "WIXEyWRswxqs"
      },
      "execution_count": null,
      "outputs": []
    },
    {
      "cell_type": "code",
      "source": [
        "plt.plot(history['loss'])"
      ],
      "metadata": {
        "colab": {
          "base_uri": "https://localhost:8080/",
          "height": 282
        },
        "id": "zAA9ovcnw1L-",
        "outputId": "682e629b-feec-47b5-9363-a4281e27bb1b"
      },
      "execution_count": null,
      "outputs": [
        {
          "output_type": "execute_result",
          "data": {
            "text/plain": [
              "[<matplotlib.lines.Line2D at 0x7f32c4d08550>]"
            ]
          },
          "metadata": {},
          "execution_count": 57
        },
        {
          "output_type": "display_data",
          "data": {
            "text/plain": [
              "<Figure size 432x288 with 1 Axes>"
            ],
            "image/png": "[encoded data removed]"
          },
          "metadata": {
            "needs_background": "light"
          }
        }
      ]
    },
    {
      "cell_type": "code",
      "source": [
        "plt.plot(history['perp'])"
      ],
      "metadata": {
        "colab": {
          "base_uri": "https://localhost:8080/",
          "height": 285
        },
        "id": "lwFvE8AEw3cs",
        "outputId": "1f2b71aa-1b54-4159-b68b-97786badf01b"
      },
      "execution_count": null,
      "outputs": [
        {
          "output_type": "execute_result",
          "data": {
            "text/plain": [
              "[<matplotlib.lines.Line2D at 0x7f32c480aa10>]"
            ]
          },
          "metadata": {},
          "execution_count": 59
        },
        {
          "output_type": "display_data",
          "data": {
            "text/plain": [
              "<Figure size 432x288 with 1 Axes>"
            ],
            "image/png": "[encoded data removed]"
          },
          "metadata": {
            "needs_background": "light"
          }
        }
      ]
    },
    {
      "cell_type": "code",
      "source": [
        "plt.plot([x[1] for x in history['bleu']])"
      ],
      "metadata": {
        "colab": {
          "base_uri": "https://localhost:8080/",
          "height": 282
        },
        "id": "63d3_4cOTaJG",
        "outputId": "e606709f-0063-4c11-eeb7-0e402d813724"
      },
      "execution_count": null,
      "outputs": [
        {
          "output_type": "execute_result",
          "data": {
            "text/plain": [
              "[<matplotlib.lines.Line2D at 0x7f32c4752610>]"
            ]
          },
          "metadata": {},
          "execution_count": 62
        },
        {
          "output_type": "display_data",
          "data": {
            "text/plain": [
              "<Figure size 432x288 with 1 Axes>"
            ],
            "image/png": "[encoded data removed]"
          },
          "metadata": {
            "needs_background": "light"
          }
        }
      ]
    },
    {
      "cell_type": "markdown",
      "source": [
        "**TEST**"
      ],
      "metadata": {
        "id": "R96WRuOrryxU"
      }
    },
    {
      "cell_type": "code",
      "source": [
        "test_data_dir =  base_path+'/datasets/web/processed_data/data_test/'\n",
        "chosen_model = ['12-1']"
      ],
      "metadata": {
        "id": "3Ui1iprlr_vS"
      },
      "execution_count": null,
      "outputs": []
    },
    {
      "cell_type": "code",
      "source": [
        "from collections import defaultdict"
      ],
      "metadata": {
        "id": "bPD9aHnIEqak"
      },
      "execution_count": null,
      "outputs": []
    },
    {
      "cell_type": "code",
      "source": [
        "bleu_scores = []\n",
        "\n",
        "for model_idx, model_name in enumerate(chosen_model):\n",
        "    encoder_model_path = os.path.join(model_path, 'encoder-hp1-{}.pkl'.format(model_name))\n",
        "    decoder_model_path = os.path.join(model_path, 'decoder-hp1-{}.pkl'.format(model_name))\n",
        "    \n",
        "    dev_img_html_dataset = ImageHTMLDataSet(data_dir=test_data_dir, vocab=vocab, transform=transform)\n",
        "    \n",
        "    dev_data_loader = DataLoader(dataset=dev_img_html_dataset,\n",
        "                             batch_size=1,\n",
        "                             shuffle=shuffle,\n",
        "                             num_workers=num_workers,\n",
        "                             collate_fn=collate_fn)\n",
        "    \n",
        "    dev_encoder = EncoderCNN(embed_size)\n",
        "    dev_decoder = DecoderRNN(embed_size, hidden_size, len(vocab), num_layers)\n",
        "\n",
        "    dev_encoder.load_state_dict(torch.load(encoder_model_path))\n",
        "    dev_decoder.load_state_dict(torch.load(decoder_model_path))\n",
        "\n",
        "    if torch.cuda.is_available():\n",
        "        dev_encoder.cuda()\n",
        "        dev_decoder.cuda()\n",
        "\n",
        "    dev_encoder.eval()\n",
        "    dev_decoder.eval()\n",
        "    \n",
        "    dev_data_count = len(dev_data_loader.dataset)\n",
        "\n",
        "    predicted, actual = list(), list()\n",
        "    bleu=0.\n",
        "    for i, (images, captions, lengths) in enumerate(dev_data_loader):\n",
        "      \n",
        "        images = Variable(images.cuda())\n",
        "\n",
        "        captions = Variable(captions.cuda())\n",
        "\n",
        "        lengths = torch.tensor(lengths)\n",
        "\n",
        "        dev_encoder.zero_grad()\n",
        "        dev_decoder.zero_grad()\n",
        "        \n",
        "        features = dev_encoder(images) \n",
        "        scores = dev_decoder(features, captions, lengths)\n",
        "\n",
        "\n",
        "        predicted = list(np.argmax(scores.data.detach().cpu().numpy(),axis=1))\n",
        "        actual = list(captions.detach()[0].cpu().numpy())\n",
        "\n",
        "\n",
        "        predicted = [vocab.idx2word[item] for item in predicted]\n",
        "        actual = [vocab.idx2word[item] for item in actual]\n",
        "\n",
        "    \n",
        "        bleu+=corpus_bleu(actual, predicted)\n",
        "    \n",
        "    bleu_scores.append((model_name, bleu/len(dev_data_loader.dataset)))\n",
        "                    \n",
        "    print('done with {} items for model: {}'.format(str(len(predicted)), model_name))"
      ],
      "metadata": {
        "colab": {
          "base_uri": "https://localhost:8080/"
        },
        "id": "8LPMVe8eE75h",
        "outputId": "3e3c2446-5f46-4979-82a2-149c024452a0"
      },
      "execution_count": null,
      "outputs": [
        {
          "output_type": "stream",
          "name": "stdout",
          "text": [
            "Created dataset of 175 items from /content/drive/MyDrive/DL/final_project/pix2code/datasets/web/processed_data/data_test/\n",
            "Encoder created256\n",
            "Decoder created.\n"
          ]
        },
        {
          "output_type": "stream",
          "name": "stderr",
          "text": [
            "/usr/local/lib/python3.7/dist-packages/nltk/translate/bleu_score.py:490: UserWarning: \n",
            "Corpus/Sentence contains 0 counts of 2-gram overlaps.\n",
            "BLEU scores might be undesirable; use SmoothingFunction().\n",
            "  warnings.warn(_msg)\n"
          ]
        },
        {
          "output_type": "stream",
          "name": "stdout",
          "text": [
            "done with 77 items for model: 12-1\n"
          ]
        }
      ]
    },
    {
      "cell_type": "code",
      "source": [
        "bleu_scores"
      ],
      "metadata": {
        "colab": {
          "base_uri": "https://localhost:8080/"
        },
        "id": "8Kwe8IlhGeoZ",
        "outputId": "f9d47737-6d15-4687-c9dc-515844b54822"
      },
      "execution_count": null,
      "outputs": [
        {
          "output_type": "execute_result",
          "data": {
            "text/plain": [
              "[('12-1', 0.7359383730173946)]"
            ]
          },
          "metadata": {},
          "execution_count": 32
        }
      ]
    }
  ]
}