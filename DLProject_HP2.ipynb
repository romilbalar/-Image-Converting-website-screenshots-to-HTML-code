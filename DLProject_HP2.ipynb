{
  "nbformat": 4,
  "nbformat_minor": 0,
  "metadata": {
    "colab": {
      "name": "DLProject-HP2.ipynb",
      "provenance": [],
      "collapsed_sections": []
    },
    "kernelspec": {
      "name": "python3",
      "display_name": "Python 3"
    },
    "language_info": {
      "name": "python"
    },
    "widgets": {
      "application/vnd.jupyter.widget-state+json": {
        "8fb94faf8e784462980a7aa0fa95dfef": {
          "model_module": "@jupyter-widgets/controls",
          "model_name": "HBoxModel",
          "model_module_version": "1.5.0",
          "state": {
            "_dom_classes": [],
            "_model_module": "@jupyter-widgets/controls",
            "_model_module_version": "1.5.0",
            "_model_name": "HBoxModel",
            "_view_count": null,
            "_view_module": "@jupyter-widgets/controls",
            "_view_module_version": "1.5.0",
            "_view_name": "HBoxView",
            "box_style": "",
            "children": [
              "IPY_MODEL_b282585273ca464383fe6b8048a2840c",
              "IPY_MODEL_4d7787a855744a67a7b639b4f709dc86",
              "IPY_MODEL_8281576c5f3640ec8f1d1b8763031af4"
            ],
            "layout": "IPY_MODEL_6f7e634483264f80b676fc6ae99e13e8"
          }
        },
        "b282585273ca464383fe6b8048a2840c": {
          "model_module": "@jupyter-widgets/controls",
          "model_name": "HTMLModel",
          "model_module_version": "1.5.0",
          "state": {
            "_dom_classes": [],
            "_model_module": "@jupyter-widgets/controls",
            "_model_module_version": "1.5.0",
            "_model_name": "HTMLModel",
            "_view_count": null,
            "_view_module": "@jupyter-widgets/controls",
            "_view_module_version": "1.5.0",
            "_view_name": "HTMLView",
            "description": "",
            "description_tooltip": null,
            "layout": "IPY_MODEL_5b3b1df200934c3583b16383895a5ecf",
            "placeholder": "​",
            "style": "IPY_MODEL_6293b6dea90a46de9078bde3b60d771a",
            "value": "100%"
          }
        },
        "4d7787a855744a67a7b639b4f709dc86": {
          "model_module": "@jupyter-widgets/controls",
          "model_name": "FloatProgressModel",
          "model_module_version": "1.5.0",
          "state": {
            "_dom_classes": [],
            "_model_module": "@jupyter-widgets/controls",
            "_model_module_version": "1.5.0",
            "_model_name": "FloatProgressModel",
            "_view_count": null,
            "_view_module": "@jupyter-widgets/controls",
            "_view_module_version": "1.5.0",
            "_view_name": "ProgressView",
            "bar_style": "success",
            "description": "",
            "description_tooltip": null,
            "layout": "IPY_MODEL_ca20c8af149d49fcadb5987e5178c4ac",
            "max": 178793939,
            "min": 0,
            "orientation": "horizontal",
            "style": "IPY_MODEL_f60a867ec7ff44f68cafc272e7938020",
            "value": 178793939
          }
        },
        "8281576c5f3640ec8f1d1b8763031af4": {
          "model_module": "@jupyter-widgets/controls",
          "model_name": "HTMLModel",
          "model_module_version": "1.5.0",
          "state": {
            "_dom_classes": [],
            "_model_module": "@jupyter-widgets/controls",
            "_model_module_version": "1.5.0",
            "_model_name": "HTMLModel",
            "_view_count": null,
            "_view_module": "@jupyter-widgets/controls",
            "_view_module_version": "1.5.0",
            "_view_name": "HTMLView",
            "description": "",
            "description_tooltip": null,
            "layout": "IPY_MODEL_76c2cc2d4ddd45d2bc4f1408474551f7",
            "placeholder": "​",
            "style": "IPY_MODEL_4c4a8bb8070a43f499b5ede9a138de62",
            "value": " 171M/171M [00:00&lt;00:00, 233MB/s]"
          }
        },
        "6f7e634483264f80b676fc6ae99e13e8": {
          "model_module": "@jupyter-widgets/base",
          "model_name": "LayoutModel",
          "model_module_version": "1.2.0",
          "state": {
            "_model_module": "@jupyter-widgets/base",
            "_model_module_version": "1.2.0",
            "_model_name": "LayoutModel",
            "_view_count": null,
            "_view_module": "@jupyter-widgets/base",
            "_view_module_version": "1.2.0",
            "_view_name": "LayoutView",
            "align_content": null,
            "align_items": null,
            "align_self": null,
            "border": null,
            "bottom": null,
            "display": null,
            "flex": null,
            "flex_flow": null,
            "grid_area": null,
            "grid_auto_columns": null,
            "grid_auto_flow": null,
            "grid_auto_rows": null,
            "grid_column": null,
            "grid_gap": null,
            "grid_row": null,
            "grid_template_areas": null,
            "grid_template_columns": null,
            "grid_template_rows": null,
            "height": null,
            "justify_content": null,
            "justify_items": null,
            "left": null,
            "margin": null,
            "max_height": null,
            "max_width": null,
            "min_height": null,
            "min_width": null,
            "object_fit": null,
            "object_position": null,
            "order": null,
            "overflow": null,
            "overflow_x": null,
            "overflow_y": null,
            "padding": null,
            "right": null,
            "top": null,
            "visibility": null,
            "width": null
          }
        },
        "5b3b1df200934c3583b16383895a5ecf": {
          "model_module": "@jupyter-widgets/base",
          "model_name": "LayoutModel",
          "model_module_version": "1.2.0",
          "state": {
            "_model_module": "@jupyter-widgets/base",
            "_model_module_version": "1.2.0",
            "_model_name": "LayoutModel",
            "_view_count": null,
            "_view_module": "@jupyter-widgets/base",
            "_view_module_version": "1.2.0",
            "_view_name": "LayoutView",
            "align_content": null,
            "align_items": null,
            "align_self": null,
            "border": null,
            "bottom": null,
            "display": null,
            "flex": null,
            "flex_flow": null,
            "grid_area": null,
            "grid_auto_columns": null,
            "grid_auto_flow": null,
            "grid_auto_rows": null,
            "grid_column": null,
            "grid_gap": null,
            "grid_row": null,
            "grid_template_areas": null,
            "grid_template_columns": null,
            "grid_template_rows": null,
            "height": null,
            "justify_content": null,
            "justify_items": null,
            "left": null,
            "margin": null,
            "max_height": null,
            "max_width": null,
            "min_height": null,
            "min_width": null,
            "object_fit": null,
            "object_position": null,
            "order": null,
            "overflow": null,
            "overflow_x": null,
            "overflow_y": null,
            "padding": null,
            "right": null,
            "top": null,
            "visibility": null,
            "width": null
          }
        },
        "6293b6dea90a46de9078bde3b60d771a": {
          "model_module": "@jupyter-widgets/controls",
          "model_name": "DescriptionStyleModel",
          "model_module_version": "1.5.0",
          "state": {
            "_model_module": "@jupyter-widgets/controls",
            "_model_module_version": "1.5.0",
            "_model_name": "DescriptionStyleModel",
            "_view_count": null,
            "_view_module": "@jupyter-widgets/base",
            "_view_module_version": "1.2.0",
            "_view_name": "StyleView",
            "description_width": ""
          }
        },
        "ca20c8af149d49fcadb5987e5178c4ac": {
          "model_module": "@jupyter-widgets/base",
          "model_name": "LayoutModel",
          "model_module_version": "1.2.0",
          "state": {
            "_model_module": "@jupyter-widgets/base",
            "_model_module_version": "1.2.0",
            "_model_name": "LayoutModel",
            "_view_count": null,
            "_view_module": "@jupyter-widgets/base",
            "_view_module_version": "1.2.0",
            "_view_name": "LayoutView",
            "align_content": null,
            "align_items": null,
            "align_self": null,
            "border": null,
            "bottom": null,
            "display": null,
            "flex": null,
            "flex_flow": null,
            "grid_area": null,
            "grid_auto_columns": null,
            "grid_auto_flow": null,
            "grid_auto_rows": null,
            "grid_column": null,
            "grid_gap": null,
            "grid_row": null,
            "grid_template_areas": null,
            "grid_template_columns": null,
            "grid_template_rows": null,
            "height": null,
            "justify_content": null,
            "justify_items": null,
            "left": null,
            "margin": null,
            "max_height": null,
            "max_width": null,
            "min_height": null,
            "min_width": null,
            "object_fit": null,
            "object_position": null,
            "order": null,
            "overflow": null,
            "overflow_x": null,
            "overflow_y": null,
            "padding": null,
            "right": null,
            "top": null,
            "visibility": null,
            "width": null
          }
        },
        "f60a867ec7ff44f68cafc272e7938020": {
          "model_module": "@jupyter-widgets/controls",
          "model_name": "ProgressStyleModel",
          "model_module_version": "1.5.0",
          "state": {
            "_model_module": "@jupyter-widgets/controls",
            "_model_module_version": "1.5.0",
            "_model_name": "ProgressStyleModel",
            "_view_count": null,
            "_view_module": "@jupyter-widgets/base",
            "_view_module_version": "1.2.0",
            "_view_name": "StyleView",
            "bar_color": null,
            "description_width": ""
          }
        },
        "76c2cc2d4ddd45d2bc4f1408474551f7": {
          "model_module": "@jupyter-widgets/base",
          "model_name": "LayoutModel",
          "model_module_version": "1.2.0",
          "state": {
            "_model_module": "@jupyter-widgets/base",
            "_model_module_version": "1.2.0",
            "_model_name": "LayoutModel",
            "_view_count": null,
            "_view_module": "@jupyter-widgets/base",
            "_view_module_version": "1.2.0",
            "_view_name": "LayoutView",
            "align_content": null,
            "align_items": null,
            "align_self": null,
            "border": null,
            "bottom": null,
            "display": null,
            "flex": null,
            "flex_flow": null,
            "grid_area": null,
            "grid_auto_columns": null,
            "grid_auto_flow": null,
            "grid_auto_rows": null,
            "grid_column": null,
            "grid_gap": null,
            "grid_row": null,
            "grid_template_areas": null,
            "grid_template_columns": null,
            "grid_template_rows": null,
            "height": null,
            "justify_content": null,
            "justify_items": null,
            "left": null,
            "margin": null,
            "max_height": null,
            "max_width": null,
            "min_height": null,
            "min_width": null,
            "object_fit": null,
            "object_position": null,
            "order": null,
            "overflow": null,
            "overflow_x": null,
            "overflow_y": null,
            "padding": null,
            "right": null,
            "top": null,
            "visibility": null,
            "width": null
          }
        },
        "4c4a8bb8070a43f499b5ede9a138de62": {
          "model_module": "@jupyter-widgets/controls",
          "model_name": "DescriptionStyleModel",
          "model_module_version": "1.5.0",
          "state": {
            "_model_module": "@jupyter-widgets/controls",
            "_model_module_version": "1.5.0",
            "_model_name": "DescriptionStyleModel",
            "_view_count": null,
            "_view_module": "@jupyter-widgets/base",
            "_view_module_version": "1.2.0",
            "_view_name": "StyleView",
            "description_width": ""
          }
        }
      }
    },
    "accelerator": "GPU"
  },
  "cells": [
    {
      "cell_type": "code",
      "execution_count": null,
      "metadata": {
        "id": "lY4jGZq43C16"
      },
      "outputs": [],
      "source": [
        "import pdb\n",
        "import os\n",
        "import torch\n",
        "import torchvision\n",
        "from torch.autograd import Variable\n",
        "import torch.nn as nn\n",
        "import torch.nn.functional as F\n",
        "import torch.optim as optim\n",
        "from torch.utils.data import Dataset, DataLoader\n",
        "from torchvision import datasets, models, transforms\n",
        "import numpy as np\n",
        "from PIL import Image"
      ]
    },
    {
      "cell_type": "code",
      "source": [
        "base_path = \"/content/drive/MyDrive/DL/final_project/pix2code\""
      ],
      "metadata": {
        "id": "KqykLIsgn4po"
      },
      "execution_count": null,
      "outputs": []
    },
    {
      "cell_type": "code",
      "source": [
        "from google.colab import drive\n",
        "drive.mount('/content/drive')"
      ],
      "metadata": {
        "colab": {
          "base_uri": "https://localhost:8080/"
        },
        "id": "of8f7iQDDb4Z",
        "outputId": "0a86e17c-ede8-4409-f062-0dc4681b6c34"
      },
      "execution_count": null,
      "outputs": [
        {
          "output_type": "stream",
          "name": "stdout",
          "text": [
            "Mounted at /content/drive\n"
          ]
        }
      ]
    },
    {
      "cell_type": "code",
      "source": [
        "batch_size = 4\n",
        "embed_size = 512\n",
        "attention_dim = 512\n",
        "decoder_dim = 512\n",
        "hidden_size = 512\n",
        "num_layers = 1\n",
        "alpha_c = 1.\n",
        "grad_clip = 5.\n",
        "encoder_lr = 1e-4\n",
        "decoder_lr = 4e-4\n",
        "\n",
        "shuffle = True\n",
        "num_workers = 2\n",
        "\n",
        "save_after_x_epochs = 2\n",
        "log_step = 1\n",
        "\n",
        "data_dir = base_path+'/datasets/web/processed_data/data_train/' \n",
        "model_path = base_path+'/model/'\n",
        "vocab_path = base_path+'/bootstrap.vocab'\n",
        "\n",
        "crop_size = 224 # Required by resnet152"
      ],
      "metadata": {
        "id": "m9UBv54XDBlF"
      },
      "execution_count": null,
      "outputs": []
    },
    {
      "cell_type": "code",
      "source": [
        "base_path"
      ],
      "metadata": {
        "colab": {
          "base_uri": "https://localhost:8080/",
          "height": 35
        },
        "id": "ZcD1aqHXqWdK",
        "outputId": "0d7d980a-9617-4cbe-f0f6-ab6fea0014a8"
      },
      "execution_count": null,
      "outputs": [
        {
          "output_type": "execute_result",
          "data": {
            "text/plain": [
              "'/content/drive/MyDrive/DL/final_project/pix2code'"
            ],
            "application/vnd.google.colaboratory.intrinsic+json": {
              "type": "string"
            }
          },
          "metadata": {},
          "execution_count": 5
        }
      ]
    },
    {
      "cell_type": "markdown",
      "source": [
        "Load Data"
      ],
      "metadata": {
        "id": "z2hEBQJcoswB"
      }
    },
    {
      "cell_type": "code",
      "source": [
        "import os\n",
        "import random\n",
        "from tqdm import tqdm\n",
        "from shutil import copyfile\n",
        "\n",
        "raw_data_dir = data_dir\n",
        "assert os.path.isdir(data_dir)\n",
        "\n",
        "output_dir = base_path+'/datasets/web/processed_data/'\n",
        "filenames = os.listdir(raw_data_dir)\n",
        "\n",
        "filenames = [(f[:-3] + 'gui', f[:-3] + 'png') for f in filenames if f.endswith('.gui')]\n",
        "\n",
        "random.seed(12345)\n",
        "filenames.sort()\n",
        "random.shuffle(filenames)\n",
        "\n",
        "split_1 = int(0.8 * len(filenames))\n",
        "split_2 = int(0.9 * len(filenames))\n",
        "\n",
        "filenames = {\n",
        "    'train': filenames[:split_1],\n",
        "    'dev': filenames[split_1:split_2],\n",
        "    'test': filenames[split_2:]\n",
        "}\n",
        "\n",
        "if not os.path.exists(output_dir):\n",
        "    os.mkdir(output_dir)\n",
        "else:\n",
        "    print('Warning: output dir {} already exists.'.format(output_dir))\n",
        "\n",
        "for split in ['train', 'dev', 'test']:\n",
        "    output_dir_split = os.path.join(output_dir, 'data_{}'.format(split))\n",
        "    \n",
        "    if not os.path.exists(output_dir_split):\n",
        "        os.mkdir(output_dir_split)\n",
        "    else:\n",
        "        print('Warning: output dir {} already exists.'.format(output_dir_split))\n",
        "        \n",
        "    print('Processing {} data, saving to {}.'.format(split, output_dir_split))\n",
        "    \n",
        "    for (gui, png) in tqdm(filenames[split]):\n",
        "        src_path_gui = os.path.join(raw_data_dir, gui)\n",
        "        output_path_gui = os.path.join(output_dir_split, gui)\n",
        "        src_path_png = os.path.join(raw_data_dir, png)\n",
        "        output_path_png = os.path.join(output_dir_split, png)\n",
        "        \n",
        "        copyfile(src_path_gui, output_path_gui)\n",
        "        copyfile(src_path_png, output_path_png)"
      ],
      "metadata": {
        "id": "R1LD_ezhouYl"
      },
      "execution_count": null,
      "outputs": []
    },
    {
      "cell_type": "markdown",
      "source": [
        "Build Vocab"
      ],
      "metadata": {
        "id": "IeK-pHT-FsDp"
      }
    },
    {
      "cell_type": "code",
      "source": [
        "def load_doc(filename):\n",
        "    file = open(filename, 'r')\n",
        "    text = file.read()\n",
        "    file.close()\n",
        "    return text"
      ],
      "metadata": {
        "id": "-YSrvMG5FtEc"
      },
      "execution_count": null,
      "outputs": []
    },
    {
      "cell_type": "code",
      "source": [
        "class Vocabulary (object):\n",
        "    def __init__ (self):\n",
        "        self.word2idx = {}\n",
        "        self.idx2word = {}\n",
        "        self.idx = 0\n",
        "        \n",
        "    def add_word (self, word):\n",
        "        if not word in self.word2idx:\n",
        "            self.word2idx[word] = self.idx\n",
        "            self.idx2word[self.idx] = word\n",
        "            self.idx += 1\n",
        "    \n",
        "    def __call__ (self, word):\n",
        "        if not word in self.word2idx:\n",
        "            return self.word2idx['<unk>']\n",
        "        return self.word2idx[word]\n",
        "    \n",
        "    def __len__ (self):\n",
        "        return len(self.word2idx)"
      ],
      "metadata": {
        "id": "Adxv6l4MFt00"
      },
      "execution_count": null,
      "outputs": []
    },
    {
      "cell_type": "code",
      "source": [
        "def build_vocab (vocab_file_path):\n",
        "    vocab = Vocabulary()\n",
        "\n",
        "    words_raw = load_doc(vocab_file_path)\n",
        "    words = set(words_raw.split(' '))\n",
        "    \n",
        "    for i, word in enumerate(words):\n",
        "        vocab.add_word(word)\n",
        "\n",
        "    vocab.add_word(' ')\n",
        "    vocab.add_word('<unk>')\n",
        "    \n",
        "    print('Created vocabulary of ' + str(len(vocab)) + ' items from ' + vocab_file_path)\n",
        "    \n",
        "    return vocab\n"
      ],
      "metadata": {
        "id": "_XVt73RCFwXs"
      },
      "execution_count": null,
      "outputs": []
    },
    {
      "cell_type": "code",
      "source": [
        "vocab = build_vocab(vocab_path)\n",
        "\n",
        "vocab_size = len(vocab)"
      ],
      "metadata": {
        "colab": {
          "base_uri": "https://localhost:8080/"
        },
        "id": "sSKk32g8FyRx",
        "outputId": "0813a248-eb87-4f07-894b-f559a8047528"
      },
      "execution_count": null,
      "outputs": [
        {
          "output_type": "stream",
          "name": "stdout",
          "text": [
            "Created vocabulary of 19 items from /content/drive/MyDrive/DL/final_project/pix2code/bootstrap.vocab\n"
          ]
        }
      ]
    },
    {
      "cell_type": "markdown",
      "source": [
        "Build Images and Captions"
      ],
      "metadata": {
        "id": "dV9Z0q0CF6aH"
      }
    },
    {
      "cell_type": "code",
      "source": [
        "class ImageHTMLDataSet (Dataset):\n",
        "    def __init__ (self, data_dir, vocab, transform):\n",
        "        self.data_dir = data_dir\n",
        "        self.vocab = vocab\n",
        "        self.transform = transform\n",
        "        \n",
        "        self.raw_image_names = []\n",
        "        self.raw_captions = []\n",
        "        \n",
        "        self.filenames = os.listdir(data_dir)\n",
        "        self.filenames.sort()\n",
        "  \n",
        "        for filename in self.filenames:\n",
        "            if filename[-3:] == 'png':\n",
        "\n",
        "                self.raw_image_names.append(filename)\n",
        "            elif filename[-3:] == 'gui':\n",
        "                data = load_doc(data_dir + filename)\n",
        "                self.raw_captions.append(data)\n",
        "                \n",
        "        print('Created dataset of ' + str(len(self)) + ' items from ' + data_dir)\n",
        "\n",
        "    def __len__ (self):\n",
        "        return len(self.raw_image_names)\n",
        "    \n",
        "    def __getitem__ (self, idx):\n",
        "        img_path, raw_caption = self.raw_image_names[idx], self.raw_captions[idx]\n",
        "        \n",
        "\n",
        "        image = Image.open(os.path.join(self.data_dir, img_path)).convert('RGB')\n",
        "        image = self.transform(image)\n",
        "\n",
        "        caption = []\n",
        "        caption.append(self.vocab('<START>'))\n",
        "\n",
        "        tokens = ' '.join(raw_caption.split())\n",
        "        tokens = tokens.replace(',', ' ,')\n",
        "        tokens = tokens.split(' ')\n",
        "        \n",
        "        caption.extend([self.vocab(token) for token in tokens])\n",
        "        caption.append(self.vocab('<END>'))\n",
        "        \n",
        "        target = torch.Tensor(caption)\n",
        "        \n",
        "        return image, target\n",
        "\n",
        "def collate_fn (data):\n",
        "    data.sort(key = lambda data_pair: len(data_pair[1]), reverse=True)\n",
        "    images, captions = zip(*data)\n",
        "    \n",
        "    images = torch.stack(images, 0)\n",
        "    \n",
        "    lengths = [len(caption) for caption in captions]\n",
        "    targets = torch.zeros(len(captions), max(lengths)).long()\n",
        "    \n",
        "    for i, caption in enumerate(captions):\n",
        "        end = lengths[i]\n",
        "        targets[i, :end] = caption[:end]\n",
        "        \n",
        "    return images, targets, lengths"
      ],
      "metadata": {
        "id": "XvHgcoRaF4Yv"
      },
      "execution_count": null,
      "outputs": []
    },
    {
      "cell_type": "code",
      "source": [
        "\n",
        "transform = transforms.Compose([\n",
        "    transforms.Resize((crop_size, crop_size)), #resnet size\n",
        "    transforms.ToTensor(),\n",
        "    transforms.Normalize(mean=[0.485, 0.456, 0.406], std=[0.229, 0.224, 0.225])\n",
        "])\n",
        "\n",
        "img_html_dataset = ImageHTMLDataSet(data_dir=data_dir, vocab=vocab, transform=transform)\n",
        "data_loader = DataLoader(dataset=img_html_dataset,\n",
        "                         batch_size=batch_size,\n",
        "                         shuffle=shuffle,\n",
        "                         num_workers=num_workers,\n",
        "                         collate_fn=collate_fn, drop_last=True)"
      ],
      "metadata": {
        "id": "jLY7DK1uGCzo",
        "colab": {
          "base_uri": "https://localhost:8080/"
        },
        "outputId": "81d37d58-671d-4daf-9496-41ab0229c862"
      },
      "execution_count": null,
      "outputs": [
        {
          "output_type": "stream",
          "name": "stdout",
          "text": [
            "Created dataset of 1393 items from /content/drive/MyDrive/DL/final_project/pix2code/datasets/web/processed_data/data_train/\n"
          ]
        }
      ]
    },
    {
      "cell_type": "markdown",
      "source": [
        "Encoder"
      ],
      "metadata": {
        "id": "csUCWAiQGL1h"
      }
    },
    {
      "cell_type": "code",
      "source": [
        "class Encoder(nn.Module):\n",
        "    def __init__(self, encoded_image_size=2048):\n",
        "        super(Encoder, self).__init__()\n",
        "        self.enc_image_size = encoded_image_size\n",
        "\n",
        "        resnet = torchvision.models.resnet101(pretrained=True) \n",
        "        modules = list(resnet.children())[:-1]\n",
        "        self.resnet = nn.Sequential(*modules)\n",
        "\n",
        "        self.linear = nn.Linear(in_features = resnet.fc.in_features, out_features = encoded_image_size)\n",
        "        self.bn = nn.BatchNorm1d(num_features = encoded_image_size, momentum = 0.01)\n",
        "      \n",
        "        self.fine_tune()\n",
        "\n",
        "    def forward(self, images):\n",
        "\n",
        "        out = self.resnet(images)\n",
        "        out = out.view(out.size(0), -1)\n",
        "        out = self.linear(out)\n",
        "        out = self.bn(out)\n",
        "        return out\n",
        "\n",
        "    def fine_tune(self, fine_tune=True):\n",
        "        for p in self.resnet.parameters():\n",
        "            p.requires_grad = False\n",
        "        for c in list(self.resnet.children())[5:]:\n",
        "            for p in c.parameters():\n",
        "                p.requires_grad = fine_tune\n"
      ],
      "metadata": {
        "id": "PSinwdWtGLd1"
      },
      "execution_count": null,
      "outputs": []
    },
    {
      "cell_type": "code",
      "source": [
        "MAX_LENGTH = 5"
      ],
      "metadata": {
        "id": "Q8JmyjkeYF8P"
      },
      "execution_count": null,
      "outputs": []
    },
    {
      "cell_type": "code",
      "source": [
        "embed_size"
      ],
      "metadata": {
        "colab": {
          "base_uri": "https://localhost:8080/"
        },
        "id": "CMpXqnCqZbvE",
        "outputId": "6dee6ce7-9a79-4cd0-98ae-61b70092aef2"
      },
      "execution_count": null,
      "outputs": [
        {
          "output_type": "execute_result",
          "data": {
            "text/plain": [
              "512"
            ]
          },
          "metadata": {},
          "execution_count": 18
        }
      ]
    },
    {
      "cell_type": "code",
      "source": [
        "import torch\n",
        "from torch import nn\n",
        "import torchvision\n",
        "\n",
        "device = torch.device(\"cuda\" if torch.cuda.is_available() else \"cpu\")\n",
        "\n",
        "class Attention(nn.Module):\n",
        "\n",
        "    def __init__(self, encoder_dim, decoder_dim, attention_dim):\n",
        "\n",
        "        super(Attention, self).__init__()\n",
        "        self.encoder_att = nn.Linear(encoder_dim, attention_dim)  # linear layer to transform encoded image\n",
        "        self.decoder_att = nn.Linear(decoder_dim, attention_dim)  # linear layer to transform decoder's output\n",
        "        self.full_att = nn.Linear(attention_dim, 1)  # linear layer to calculate values to be softmax-ed\n",
        "        self.relu = nn.ReLU()\n",
        "        self.softmax = nn.Softmax(dim=1)  # softmax layer to calculate weights\n",
        "\n",
        "    def forward(self, encoder_out, decoder_hidden):\n",
        "\n",
        "        att1 = self.encoder_att(encoder_out)  # (batch_size, num_pixels, attention_dim)\n",
        "        att2 = self.decoder_att(decoder_hidden)  # (batch_size, attention_dim)\n",
        "        att = self.full_att(self.relu(att1 + att2.unsqueeze(1))).squeeze(2)  # (batch_size, num_pixels)\n",
        "        alpha = self.softmax(att)  # (batch_size, num_pixels)\n",
        "        attention_weighted_encoding = (encoder_out * alpha.unsqueeze(2)).sum(dim=1)  # (batch_size, encoder_dim)\n",
        "\n",
        "        return attention_weighted_encoding, alpha\n",
        "\n",
        "\n",
        "class DecoderWithAttention(nn.Module):\n",
        "\n",
        "    def __init__(self, attention_dim, embed_dim, decoder_dim, vocab_size, encoder_dim=2048, dropout=0.5):\n",
        "        super(DecoderWithAttention, self).__init__()\n",
        "\n",
        "        self.encoder_dim = encoder_dim\n",
        "        self.attention_dim = attention_dim\n",
        "        self.embed_dim = embed_dim\n",
        "        self.decoder_dim = decoder_dim\n",
        "        self.vocab_size = vocab_size\n",
        "        self.dropout = dropout\n",
        "\n",
        "        self.attention = Attention(encoder_dim, decoder_dim, attention_dim)  \n",
        "\n",
        "        self.embedding = nn.Embedding(vocab_size, embed_dim)\n",
        "        self.dropout = nn.Dropout(p=self.dropout)\n",
        "        self.decode_step = nn.LSTMCell(embed_dim + encoder_dim, decoder_dim, bias=True)  \n",
        "        self.init_h = nn.Linear(encoder_dim, decoder_dim)  \n",
        "        self.init_c = nn.Linear(encoder_dim, decoder_dim)  \n",
        "        self.f_beta = nn.Linear(decoder_dim, encoder_dim)\n",
        "        self.sigmoid = nn.Sigmoid()\n",
        "        self.fc = nn.Linear(decoder_dim, vocab_size)  \n",
        "        self.init_weights()  \n",
        "        \n",
        "    def init_weights(self):\n",
        "        self.embedding.weight.data.uniform_(-0.1, 0.1)\n",
        "        self.fc.bias.data.fill_(0)\n",
        "        self.fc.weight.data.uniform_(-0.1, 0.1)\n",
        "\n",
        "    def load_pretrained_embeddings(self, embeddings):\n",
        "        self.embedding.weight = nn.Parameter(embeddings)\n",
        "\n",
        "    def fine_tune_embeddings(self, fine_tune=True):\n",
        "        for p in self.embedding.parameters():\n",
        "            p.requires_grad = fine_tune\n",
        "\n",
        "    def init_hidden_state(self, encoder_out):\n",
        "        mean_encoder_out = encoder_out.mean(dim=1)\n",
        "        h = self.init_h(mean_encoder_out) \n",
        "        c = self.init_c(mean_encoder_out)\n",
        "        return h, c\n",
        "\n",
        "    def forward(self, encoder_out, encoded_captions, caption_lengths):\n",
        "\n",
        "        batch_size = encoder_out.size(0)\n",
        "        encoder_dim = encoder_out.size(-1)\n",
        "        vocab_size = self.vocab_size\n",
        "\n",
        "        encoder_out = encoder_out.view(batch_size, -1, encoder_dim)  \n",
        "        num_pixels = encoder_out.size(1)\n",
        "        caption_lengths, sort_ind = caption_lengths.squeeze(1).sort(dim=0, descending=True)\n",
        "        encoder_out = encoder_out[sort_ind]\n",
        "        encoded_captions = encoded_captions[sort_ind]\n",
        "\n",
        "        embeddings = self.embedding(encoded_captions) \n",
        "\n",
        "        h, c = self.init_hidden_state(encoder_out) \n",
        "\n",
        "        decode_lengths = (caption_lengths - 1).tolist()\n",
        "\n",
        "\n",
        "        predictions = torch.zeros(batch_size, max(decode_lengths), vocab_size).to(device)\n",
        "        alphas = torch.zeros(batch_size, max(decode_lengths), num_pixels).to(device)\n",
        "\n",
        "        for t in range(max(decode_lengths)):\n",
        "            batch_size_t = sum([l > t for l in decode_lengths])\n",
        "            attention_weighted_encoding, alpha = self.attention(encoder_out[:batch_size_t],\n",
        "                                                                h[:batch_size_t])\n",
        "            gate = self.sigmoid(self.f_beta(h[:batch_size_t]))\n",
        "            attention_weighted_encoding = gate * attention_weighted_encoding\n",
        "            h, c = self.decode_step(\n",
        "                torch.cat([embeddings[:batch_size_t, t, :], attention_weighted_encoding], dim=1),\n",
        "                (h[:batch_size_t], c[:batch_size_t]))  \n",
        "            preds = self.fc(self.dropout(h))  \n",
        "            predictions[:batch_size_t, t, :] = preds\n",
        "            alphas[:batch_size_t, t, :] = alpha\n",
        "\n",
        "        return predictions, encoded_captions, decode_lengths, alphas, sort_ind"
      ],
      "metadata": {
        "id": "VTU5VvWYaXot"
      },
      "execution_count": null,
      "outputs": []
    },
    {
      "cell_type": "code",
      "source": [
        "encoder = Encoder()\n",
        "decoder = DecoderWithAttention(attention_dim=attention_dim,\n",
        "                                       embed_dim=embed_size,\n",
        "                                       decoder_dim=decoder_dim,\n",
        "                                       vocab_size=len(vocab),\n",
        "                                       dropout=0.2)\n",
        "\n",
        "criterion = nn.CrossEntropyLoss()\n",
        "\n",
        "if torch.cuda.is_available():\n",
        "    encoder.cuda()\n",
        "    decoder.cuda()\n",
        "    print('CUDA activated.')"
      ],
      "metadata": {
        "colab": {
          "base_uri": "https://localhost:8080/",
          "height": 83,
          "referenced_widgets": [
            "8fb94faf8e784462980a7aa0fa95dfef",
            "b282585273ca464383fe6b8048a2840c",
            "4d7787a855744a67a7b639b4f709dc86",
            "8281576c5f3640ec8f1d1b8763031af4",
            "6f7e634483264f80b676fc6ae99e13e8",
            "5b3b1df200934c3583b16383895a5ecf",
            "6293b6dea90a46de9078bde3b60d771a",
            "ca20c8af149d49fcadb5987e5178c4ac",
            "f60a867ec7ff44f68cafc272e7938020",
            "76c2cc2d4ddd45d2bc4f1408474551f7",
            "4c4a8bb8070a43f499b5ede9a138de62"
          ]
        },
        "id": "laOgGWsUGSl_",
        "outputId": "928d6c98-6b16-47df-a257-02efd1f25789"
      },
      "execution_count": null,
      "outputs": [
        {
          "output_type": "stream",
          "name": "stderr",
          "text": [
            "Downloading: \"https://download.pytorch.org/models/resnet101-63fe2227.pth\" to /root/.cache/torch/hub/checkpoints/resnet101-63fe2227.pth\n"
          ]
        },
        {
          "output_type": "display_data",
          "data": {
            "text/plain": [
              "  0%|          | 0.00/171M [00:00<?, ?B/s]"
            ],
            "application/vnd.jupyter.widget-view+json": {
              "version_major": 2,
              "version_minor": 0,
              "model_id": "8fb94faf8e784462980a7aa0fa95dfef"
            }
          },
          "metadata": {}
        },
        {
          "output_type": "stream",
          "name": "stdout",
          "text": [
            "CUDA activated.\n"
          ]
        }
      ]
    },
    {
      "cell_type": "code",
      "source": [
        "encoder_optimizer = torch.optim.Adam(params=filter(lambda p: p.requires_grad, encoder.parameters()),\n",
        "                                             lr=encoder_lr)\n",
        "decoder_optimizer = torch.optim.Adam(params=filter(lambda p: p.requires_grad, decoder.parameters()),\n",
        "                                             lr=decoder_lr)"
      ],
      "metadata": {
        "id": "Fu7G_kf2PNu3"
      },
      "execution_count": null,
      "outputs": []
    },
    {
      "cell_type": "code",
      "source": [
        "def clip_gradient(optimizer, grad_clip):\n",
        "    for group in optimizer.param_groups:\n",
        "        for param in group['params']:\n",
        "            if param.grad is not None:\n",
        "                param.grad.data.clamp_(-grad_clip, grad_clip)\n",
        "\n"
      ],
      "metadata": {
        "id": "mz6bBdQ6OwDN"
      },
      "execution_count": null,
      "outputs": []
    },
    {
      "cell_type": "code",
      "source": [
        "from collections import defaultdict\n",
        "history = defaultdict()\n",
        "history['loss'], history['perp'],history['time'] = [],[],[]"
      ],
      "metadata": {
        "id": "tyuCMkPZk6CM"
      },
      "execution_count": null,
      "outputs": []
    },
    {
      "cell_type": "code",
      "source": [
        "import time"
      ],
      "metadata": {
        "id": "m3pyzQkqQjzS"
      },
      "execution_count": null,
      "outputs": []
    },
    {
      "cell_type": "code",
      "source": [
        "encoder.train()\n",
        "decoder.train()\n",
        "\n",
        "batch_count = len(data_loader)\n",
        "t0=time.time()\n",
        "# history['time'].append(t0)\n",
        "for epoch in range(10):\n",
        "    for i, (images, captions, lengths) in enumerate(data_loader):\n",
        "\n",
        "        images = Variable(images.cuda())\n",
        "        captions = Variable(captions.cuda())\n",
        "\n",
        "        lengths = torch.tensor(lengths)\n",
        "\n",
        "        encoder.zero_grad()\n",
        "        decoder.zero_grad()\n",
        "\n",
        "        features = encoder(images) \n",
        "        scores, caps_sorted, decode_lengths, alphas, sort_ind = decoder(features, captions, lengths.unsqueeze(1))\n",
        "\n",
        "        targets = captions[:,1:]\n",
        "        scores = nn.utils.rnn.pack_padded_sequence(scores, decode_lengths, batch_first=True)\n",
        "        targets = nn.utils.rnn.pack_padded_sequence(targets, decode_lengths, batch_first=True)\n",
        "\n",
        "        loss = criterion(scores.data.double(), targets.data)\n",
        "        loss.backward()\n",
        "\n",
        "        clip_gradient(encoder_optimizer, grad_clip)\n",
        "        clip_gradient(decoder_optimizer, grad_clip)\n",
        "\n",
        "        encoder_optimizer.step()\n",
        "        decoder_optimizer.step()\n",
        "\n",
        "        \n",
        "        if epoch % log_step == 0 and i == 0:\n",
        "            history['loss'].append(loss.item())\n",
        "            history['perp'].append(np.exp(loss.item()))\n",
        "            history['time'].append(time.time()-t0)\n",
        "            print('Epoch: #%d, Loss: %.4f, Perplexity: %5.4f'\n",
        "                  % (epoch, loss.item(), np.exp(loss.item())))\n",
        "            \n",
        "        if (epoch + 1) % save_after_x_epochs == 0 and i == 0:\n",
        "            # Save our models\n",
        "            print('Saving model ' + str(epoch))\n",
        "            torch.save(decoder.state_dict(),os.path.join(model_path, 'decoder-hp2-%d-%d.pkl' %(epoch+1, i+1)))\n",
        "            torch.save(encoder.state_dict(), os.path.join(model_path, 'encoder-hp2-%d-%d.pkl' %(epoch+1, i+1)))\n",
        "\n",
        "timeTaken = time.time()-t0\n",
        "print('done!')"
      ],
      "metadata": {
        "id": "z3nu2vYMGW4l",
        "colab": {
          "base_uri": "https://localhost:8080/"
        },
        "outputId": "9280f2d0-c7a2-4550-8e57-7083d7ecd208"
      },
      "execution_count": null,
      "outputs": [
        {
          "output_type": "stream",
          "name": "stdout",
          "text": [
            "Epoch: #0, Loss: 3.0073, Perplexity: 20.2317\n",
            "Epoch: #1, Loss: 0.2453, Perplexity: 1.2781\n",
            "Saving model 1\n",
            "Epoch: #2, Loss: 0.1927, Perplexity: 1.2126\n",
            "Epoch: #3, Loss: 0.1852, Perplexity: 1.2035\n",
            "Saving model 3\n",
            "Epoch: #4, Loss: 0.2012, Perplexity: 1.2229\n",
            "Epoch: #5, Loss: 0.1237, Perplexity: 1.1317\n",
            "Saving model 5\n",
            "Epoch: #6, Loss: 0.1192, Perplexity: 1.1266\n",
            "Epoch: #7, Loss: 0.0958, Perplexity: 1.1005\n",
            "Saving model 7\n",
            "Epoch: #8, Loss: 0.1101, Perplexity: 1.1164\n",
            "Epoch: #9, Loss: 0.0751, Perplexity: 1.0780\n",
            "Saving model 9\n",
            "done!\n"
          ]
        }
      ]
    },
    {
      "cell_type": "code",
      "source": [
        "import os"
      ],
      "metadata": {
        "id": "SgcPz-o-imgH"
      },
      "execution_count": null,
      "outputs": []
    },
    {
      "cell_type": "code",
      "source": [
        "torch.save(decoder.state_dict(),'/content/drive/MyDrive/DL/decoder-hp2-%d-%d.pkl' %(epoch+1, i+1))\n",
        "torch.save(encoder.state_dict(), '/content/drive/MyDrive/DL/encoder-hp2-%d-%d.pkl' %(epoch+1, i+1))"
      ],
      "metadata": {
        "id": "agPwJjlobM0k"
      },
      "execution_count": null,
      "outputs": []
    },
    {
      "cell_type": "code",
      "source": [
        "from matplotlib import pyplot as plt\n",
        "plt.plot(history['loss'])"
      ],
      "metadata": {
        "colab": {
          "base_uri": "https://localhost:8080/",
          "height": 282
        },
        "id": "DUHZloAHrpUG",
        "outputId": "27518f3d-7d5a-41e4-9c5c-844ebbec0df8"
      },
      "execution_count": null,
      "outputs": [
        {
          "output_type": "execute_result",
          "data": {
            "text/plain": [
              "[<matplotlib.lines.Line2D at 0x7f69ea222d90>]"
            ]
          },
          "metadata": {},
          "execution_count": 38
        },
        {
          "output_type": "display_data",
          "data": {
            "text/plain": [
              "<Figure size 432x288 with 1 Axes>"
            ],
            "image/png": "[encoded data removed]"
          },
          "metadata": {
            "needs_background": "light"
          }
        }
      ]
    },
    {
      "cell_type": "code",
      "source": [
        "plt.plot(history['perp'])"
      ],
      "metadata": {
        "colab": {
          "base_uri": "https://localhost:8080/",
          "height": 282
        },
        "id": "z_ryl5Zsr1ty",
        "outputId": "b9ffef15-cade-432c-d192-97011d0f8016"
      },
      "execution_count": null,
      "outputs": [
        {
          "output_type": "execute_result",
          "data": {
            "text/plain": [
              "[<matplotlib.lines.Line2D at 0x7f69ea118bd0>]"
            ]
          },
          "metadata": {},
          "execution_count": 39
        },
        {
          "output_type": "display_data",
          "data": {
            "text/plain": [
              "<Figure size 432x288 with 1 Axes>"
            ],
            "image/png": "[encoded data removed]"
          },
          "metadata": {
            "needs_background": "light"
          }
        }
      ]
    },
    {
      "cell_type": "code",
      "source": [
        "plt.plot(history['time'])"
      ],
      "metadata": {
        "colab": {
          "base_uri": "https://localhost:8080/",
          "height": 282
        },
        "id": "ZhDyxqYDRvZ4",
        "outputId": "3e17903c-8248-42e0-8adc-5e534e8ab780"
      },
      "execution_count": null,
      "outputs": [
        {
          "output_type": "execute_result",
          "data": {
            "text/plain": [
              "[<matplotlib.lines.Line2D at 0x7f69ea1039d0>]"
            ]
          },
          "metadata": {},
          "execution_count": 41
        },
        {
          "output_type": "display_data",
          "data": {
            "text/plain": [
              "<Figure size 432x288 with 1 Axes>"
            ],
            "image/png": "[encoded data removed]"
          },
          "metadata": {
            "needs_background": "light"
          }
        }
      ]
    },
    {
      "cell_type": "code",
      "source": [
        "import json \n",
        "with open(base_path+'/history_hp2.json','w') as f:\n",
        "  json.dump(history,f)"
      ],
      "metadata": {
        "id": "Ybd5oIzeRyc7"
      },
      "execution_count": null,
      "outputs": []
    },
    {
      "cell_type": "markdown",
      "source": [
        "Eval"
      ],
      "metadata": {
        "id": "8vvSXlSnGgNs"
      }
    },
    {
      "cell_type": "code",
      "source": [
        "from nltk.translate.bleu_score import corpus_bleu"
      ],
      "metadata": {
        "id": "VgAY2yCpGgoR"
      },
      "execution_count": null,
      "outputs": []
    },
    {
      "cell_type": "code",
      "source": [
        "def transform_idx_to_words (input):\n",
        "    sampled_caption = []\n",
        "    \n",
        "    for idx in input:\n",
        "        word = vocab.idx2word[idx]\n",
        "        sampled_caption.append(word)\n",
        "\n",
        "        if word == '<END>':\n",
        "            break\n",
        "\n",
        "    output = ' '.join(sampled_caption[1:-1])\n",
        "\n",
        "    output = output.replace(' ,', ',')\n",
        "\n",
        "    return output.split(' ')"
      ],
      "metadata": {
        "id": "xqOfwGilGihO"
      },
      "execution_count": null,
      "outputs": []
    },
    {
      "cell_type": "code",
      "source": [
        "dev_data_dir = base_path+'/datasets/web/processed_data/data_dev/'\n",
        "\n",
        "models_to_test = ['2-1','4-1','6-1','8-1','10-1']"
      ],
      "metadata": {
        "id": "uEJ6mc-iGmG1"
      },
      "execution_count": null,
      "outputs": []
    },
    {
      "cell_type": "markdown",
      "source": [
        "Greedy Search"
      ],
      "metadata": {
        "id": "C07DvvtcHdQB"
      }
    },
    {
      "cell_type": "code",
      "source": [
        "bleu_scores = []\n",
        "\n",
        "for model_idx, model_name in enumerate(models_to_test):\n",
        "    encoder_model_path = os.path.join(model_path, 'encoder-hp2-{}.pkl'.format(model_name))\n",
        "    decoder_model_path = os.path.join(model_path, 'decoder-hp2-{}.pkl'.format(model_name))\n",
        "    \n",
        "    dev_img_html_dataset = ImageHTMLDataSet(data_dir=dev_data_dir, vocab=vocab, transform=transform)\n",
        "    \n",
        "    dev_data_loader = DataLoader(dataset=dev_img_html_dataset,\n",
        "                             batch_size=1,\n",
        "                             shuffle=shuffle,\n",
        "                             num_workers=num_workers,\n",
        "                             collate_fn=collate_fn)\n",
        "    \n",
        "    dev_encoder = Encoder()\n",
        "    dev_decoder = DecoderWithAttention(attention_dim=attention_dim,\n",
        "                                       embed_dim=embed_size,\n",
        "                                       decoder_dim=decoder_dim,\n",
        "                                       vocab_size=len(vocab),\n",
        "                                       dropout=0.2)\n",
        "\n",
        "    dev_encoder.load_state_dict(torch.load(encoder_model_path))\n",
        "    dev_decoder.load_state_dict(torch.load(decoder_model_path))\n",
        "\n",
        "    if torch.cuda.is_available():\n",
        "        dev_encoder.cuda()\n",
        "        dev_decoder.cuda()\n",
        "\n",
        "    dev_encoder.eval()\n",
        "    dev_decoder.eval()\n",
        "    \n",
        "    dev_data_count = len(dev_data_loader.dataset)\n",
        "\n",
        "    predicted, actual = list(), list()\n",
        "    bleu=0.\n",
        "    for i, (images, captions, lengths) in enumerate(dev_data_loader):\n",
        "        images = Variable(images.cuda())\n",
        "\n",
        "        captions = Variable(captions.cuda())\n",
        "\n",
        "        lengths = torch.tensor(lengths)\n",
        "\n",
        "        dev_encoder.zero_grad()\n",
        "        dev_decoder.zero_grad()\n",
        "        \n",
        "        features = dev_encoder(images) \n",
        "        scores, caps_sorted, decode_lengths, alphas, sort_ind = dev_decoder(features, captions, lengths.unsqueeze(1))\n",
        "\n",
        "        targets = captions[:,1:]\n",
        "\n",
        "        scores = nn.utils.rnn.pack_padded_sequence(scores, decode_lengths, batch_first=True)\n",
        "        targets = nn.utils.rnn.pack_padded_sequence(targets, decode_lengths, batch_first=True)\n",
        "\n",
        "        predicted = list(np.argmax(scores.data.detach().cpu().numpy(),axis=1))\n",
        "        actual = list(targets.data.detach().cpu().numpy())\n",
        "\n",
        "\n",
        "        predicted = [vocab.idx2word[item] for item in predicted]\n",
        "        actual = [vocab.idx2word[item] for item in actual]\n",
        "\n",
        "    \n",
        "        bleu+=corpus_bleu(actual, predicted)\n",
        "    \n",
        "    bleu_scores.append((model_name, bleu/len(dev_data_loader.dataset)))\n",
        "                    \n",
        "    print('done with {} items for model: {}'.format(str(len(predicted)), model_name))"
      ],
      "metadata": {
        "colab": {
          "base_uri": "https://localhost:8080/"
        },
        "id": "6zJ2C__Txa8F",
        "outputId": "65c7556b-ab55-48ff-a5e6-51b2a953c01c"
      },
      "execution_count": null,
      "outputs": [
        {
          "output_type": "stream",
          "name": "stdout",
          "text": [
            "Created dataset of 174 items from /content/drive/MyDrive/DL/final_project/pix2code/datasets/web/processed_data/data_dev/\n"
          ]
        },
        {
          "output_type": "stream",
          "name": "stderr",
          "text": [
            "/usr/local/lib/python3.7/dist-packages/nltk/translate/bleu_score.py:490: UserWarning: \n",
            "Corpus/Sentence contains 0 counts of 2-gram overlaps.\n",
            "BLEU scores might be undesirable; use SmoothingFunction().\n",
            "  warnings.warn(_msg)\n"
          ]
        },
        {
          "output_type": "stream",
          "name": "stdout",
          "text": [
            "done with 76 items for model: 2-1\n",
            "Created dataset of 174 items from /content/drive/MyDrive/DL/final_project/pix2code/datasets/web/processed_data/data_dev/\n",
            "done with 72 items for model: 4-1\n",
            "Created dataset of 174 items from /content/drive/MyDrive/DL/final_project/pix2code/datasets/web/processed_data/data_dev/\n",
            "done with 48 items for model: 6-1\n",
            "Created dataset of 174 items from /content/drive/MyDrive/DL/final_project/pix2code/datasets/web/processed_data/data_dev/\n",
            "done with 78 items for model: 8-1\n",
            "Created dataset of 174 items from /content/drive/MyDrive/DL/final_project/pix2code/datasets/web/processed_data/data_dev/\n",
            "done with 74 items for model: 10-1\n"
          ]
        }
      ]
    },
    {
      "cell_type": "code",
      "source": [
        "bleu_scores"
      ],
      "metadata": {
        "colab": {
          "base_uri": "https://localhost:8080/"
        },
        "id": "YB9LNFBj_bR9",
        "outputId": "5105f019-2807-4d50-a039-9044d8b8ff5a"
      },
      "execution_count": null,
      "outputs": [
        {
          "output_type": "execute_result",
          "data": {
            "text/plain": [
              "[('2-1', 0.6821744511881205),\n",
              " ('4-1', 0.6830318112673441),\n",
              " ('6-1', 0.675798928641526),\n",
              " ('8-1', 0.6765190789158899),\n",
              " ('10-1', 0.6771639003037694)]"
            ]
          },
          "metadata": {},
          "execution_count": 62
        }
      ]
    },
    {
      "cell_type": "markdown",
      "source": [
        "# **Test**"
      ],
      "metadata": {
        "id": "X-A0REYC0vrr"
      }
    },
    {
      "cell_type": "code",
      "source": [
        "test_data_dir = base_path+'/datasets/web/processed_data/data_test/'\n",
        "\n",
        "chosen_model = ['4-1']"
      ],
      "metadata": {
        "id": "IuhghJMl08KD"
      },
      "execution_count": null,
      "outputs": []
    },
    {
      "cell_type": "code",
      "source": [
        "bleu_scores = []\n",
        "\n",
        "for model_idx, model_name in enumerate(chosen_model):\n",
        "    encoder_model_path = os.path.join(model_path, 'encoder-hp2-{}.pkl'.format(model_name))\n",
        "    decoder_model_path = os.path.join(model_path, 'decoder-hp2-{}.pkl'.format(model_name))\n",
        "    \n",
        "    dev_img_html_dataset = ImageHTMLDataSet(data_dir=test_data_dir, vocab=vocab, transform=transform)\n",
        "    \n",
        "    dev_data_loader = DataLoader(dataset=dev_img_html_dataset,\n",
        "                             batch_size=1,\n",
        "                             shuffle=shuffle,\n",
        "                             num_workers=num_workers,\n",
        "                             collate_fn=collate_fn)\n",
        "    \n",
        "    dev_encoder = Encoder()\n",
        "    dev_decoder = DecoderWithAttention(attention_dim=attention_dim,\n",
        "                                       embed_dim=embed_size,\n",
        "                                       decoder_dim=decoder_dim,\n",
        "                                       vocab_size=len(vocab),\n",
        "                                       dropout=0.2)\n",
        "\n",
        "    dev_encoder.load_state_dict(torch.load(encoder_model_path))\n",
        "    dev_decoder.load_state_dict(torch.load(decoder_model_path))\n",
        "\n",
        "    if torch.cuda.is_available():\n",
        "        dev_encoder.cuda()\n",
        "        dev_decoder.cuda()\n",
        "\n",
        "    dev_encoder.eval()\n",
        "    dev_decoder.eval()\n",
        "    \n",
        "    dev_data_count = len(dev_data_loader.dataset)\n",
        "\n",
        "    predicted, actual = list(), list()\n",
        "    bleu=0.\n",
        "    for i, (images, captions, lengths) in enumerate(dev_data_loader):\n",
        "        images = Variable(images.cuda())\n",
        "\n",
        "        captions = Variable(captions.cuda())\n",
        "\n",
        "        lengths = torch.tensor(lengths)\n",
        "\n",
        "        dev_encoder.zero_grad()\n",
        "        dev_decoder.zero_grad()\n",
        "        \n",
        "        features = dev_encoder(images) \n",
        "        scores, caps_sorted, decode_lengths, alphas, sort_ind = dev_decoder(features, captions, lengths.unsqueeze(1))\n",
        "\n",
        "        targets = captions[:,1:]\n",
        "\n",
        "        scores = nn.utils.rnn.pack_padded_sequence(scores, decode_lengths, batch_first=True)\n",
        "        targets = nn.utils.rnn.pack_padded_sequence(targets, decode_lengths, batch_first=True)\n",
        "\n",
        "        predicted = list(np.argmax(scores.data.detach().cpu().numpy(),axis=1))\n",
        "        actual = list(targets.data.detach().cpu().numpy())\n",
        "\n",
        "\n",
        "        predicted = [vocab.idx2word[item] for item in predicted]\n",
        "        actual = [vocab.idx2word[item] for item in actual]\n",
        "\n",
        "    \n",
        "        bleu+=corpus_bleu(actual, predicted)\n",
        "    \n",
        "    bleu_scores.append((model_name, bleu/len(dev_data_loader.dataset)))\n",
        "                    \n",
        "    print('done with {} items for model: {}'.format(str(len(predicted)), model_name))"
      ],
      "metadata": {
        "id": "BQ-ioPE20ysy",
        "colab": {
          "base_uri": "https://localhost:8080/"
        },
        "outputId": "1c7690bd-e63a-4eb2-b00b-b6eb2eaad1d2"
      },
      "execution_count": null,
      "outputs": [
        {
          "output_type": "stream",
          "name": "stdout",
          "text": [
            "Created dataset of 175 items from /content/drive/MyDrive/DL/final_project/pix2code/datasets/web/processed_data/data_test/\n"
          ]
        },
        {
          "output_type": "stream",
          "name": "stderr",
          "text": [
            "/usr/local/lib/python3.7/dist-packages/nltk/translate/bleu_score.py:490: UserWarning: \n",
            "Corpus/Sentence contains 0 counts of 2-gram overlaps.\n",
            "BLEU scores might be undesirable; use SmoothingFunction().\n",
            "  warnings.warn(_msg)\n"
          ]
        },
        {
          "output_type": "stream",
          "name": "stdout",
          "text": [
            "done with 78 items for model: 4-1\n"
          ]
        }
      ]
    },
    {
      "cell_type": "code",
      "source": [
        "bleu_scores"
      ],
      "metadata": {
        "colab": {
          "base_uri": "https://localhost:8080/"
        },
        "id": "yVtRL3WlCmEk",
        "outputId": "49afc9f5-4ac7-4e8c-9582-20bce1fef190"
      },
      "execution_count": null,
      "outputs": [
        {
          "output_type": "execute_result",
          "data": {
            "text/plain": [
              "[('4-1', 0.5088399072211138)]"
            ]
          },
          "metadata": {},
          "execution_count": 22
        }
      ]
    }
  ]
}