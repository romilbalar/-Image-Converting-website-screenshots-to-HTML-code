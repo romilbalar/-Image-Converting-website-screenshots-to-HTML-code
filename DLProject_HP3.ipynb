{
  "nbformat": 4,
  "nbformat_minor": 0,
  "metadata": {
    "colab": {
      "name": "DLProject-HP3.ipynb",
      "provenance": [],
      "collapsed_sections": []
    },
    "kernelspec": {
      "name": "python3",
      "display_name": "Python 3"
    },
    "language_info": {
      "name": "python"
    }
  },
  "cells": [
    {
      "cell_type": "code",
      "execution_count": null,
      "metadata": {
        "id": "lY4jGZq43C16"
      },
      "outputs": [],
      "source": [
        "import pdb\n",
        "import os\n",
        "import torch\n",
        "import torchvision\n",
        "from torch.autograd import Variable\n",
        "import torch.nn as nn\n",
        "import torch.nn.functional as F\n",
        "import torch.optim as optim\n",
        "from torch.utils.data import Dataset, DataLoader\n",
        "from torchvision import datasets, models, transforms\n",
        "import numpy as np\n",
        "from PIL import Image"
      ]
    },
    {
      "cell_type": "code",
      "source": [
        "base_path = \"/content/drive/MyDrive/DL/final_project/pix2code\""
      ],
      "metadata": {
        "id": "KqykLIsgn4po"
      },
      "execution_count": null,
      "outputs": []
    },
    {
      "cell_type": "code",
      "source": [
        "from google.colab import drive\n",
        "drive.mount('/content/drive')"
      ],
      "metadata": {
        "colab": {
          "base_uri": "https://localhost:8080/"
        },
        "id": "of8f7iQDDb4Z",
        "outputId": "2387a4cc-ac28-4e9d-dbab-c1c988a62be1"
      },
      "execution_count": null,
      "outputs": [
        {
          "output_type": "stream",
          "name": "stdout",
          "text": [
            "Mounted at /content/drive\n"
          ]
        }
      ]
    },
    {
      "cell_type": "code",
      "source": [
        "\n",
        "batch_size = 4\n",
        "embed_size = 512\n",
        "attention_dim = 512\n",
        "decoder_dim = 512\n",
        "num_epochs = 100\n",
        "learning_rate = 0.001\n",
        "hidden_size = 512\n",
        "num_layers = 1\n",
        "alpha_c = 1.\n",
        "grad_clip = 5.\n",
        "encoder_lr = 1e-4\n",
        "decoder_lr = 4e-4\n",
        "\n",
        "shuffle = True\n",
        "num_workers = 2\n",
        "\n",
        "save_after_x_epochs = 2\n",
        "log_step = 1\n",
        "\n",
        "data_dir = base_path+'/datasets/web/processed_data/data_train/'\n",
        "model_path = base_path+'/model/'\n",
        "vocab_path = base_path+'/bootstrap.vocab'\n",
        "\n",
        "crop_size = 224 # Required by resnet152"
      ],
      "metadata": {
        "id": "m9UBv54XDBlF"
      },
      "execution_count": null,
      "outputs": []
    },
    {
      "cell_type": "code",
      "source": [
        "base_path"
      ],
      "metadata": {
        "colab": {
          "base_uri": "https://localhost:8080/",
          "height": 35
        },
        "id": "ZcD1aqHXqWdK",
        "outputId": "10bb2cc1-c3c8-42ca-b07c-e30cff75aaf0"
      },
      "execution_count": null,
      "outputs": [
        {
          "output_type": "execute_result",
          "data": {
            "text/plain": [
              "'/content/drive/MyDrive/DL/final_project/pix2code'"
            ],
            "application/vnd.google.colaboratory.intrinsic+json": {
              "type": "string"
            }
          },
          "metadata": {},
          "execution_count": 5
        }
      ]
    },
    {
      "cell_type": "markdown",
      "source": [
        "Load Data"
      ],
      "metadata": {
        "id": "z2hEBQJcoswB"
      }
    },
    {
      "cell_type": "code",
      "source": [
        "import os\n",
        "import random\n",
        "from tqdm import tqdm\n",
        "from shutil import copyfile\n",
        "\n",
        "raw_data_dir = data_dir\n",
        "assert os.path.isdir(data_dir)\n",
        "\n",
        "output_dir = base_path+'/datasets/web/processed_data/'\n",
        "filenames = os.listdir(raw_data_dir)\n",
        "\n",
        "filenames = [(f[:-3] + 'gui', f[:-3] + 'png') for f in filenames if f.endswith('.gui')]\n",
        "\n",
        "filenames.sort()\n",
        "random.shuffle(filenames)\n",
        "\n",
        "split_1 = int(0.8 * len(filenames))\n",
        "split_2 = int(0.9 * len(filenames))\n",
        "\n",
        "filenames = {\n",
        "    'train': filenames[:split_1],\n",
        "    'dev': filenames[split_1:split_2],\n",
        "    'test': filenames[split_2:]\n",
        "}\n",
        "\n",
        "if not os.path.exists(output_dir):\n",
        "    os.mkdir(output_dir)\n",
        "else:\n",
        "    print('Warning: output dir {} already exists.'.format(output_dir))\n",
        "\n",
        "for split in ['train', 'dev', 'test']:\n",
        "    output_dir_split = os.path.join(output_dir, 'data_{}'.format(split))\n",
        "    \n",
        "    if not os.path.exists(output_dir_split):\n",
        "        os.mkdir(output_dir_split)\n",
        "    else:\n",
        "        print('Warning: output dir {} already exists.'.format(output_dir_split))\n",
        "        \n",
        "    print('Processing {} data, saving to {}.'.format(split, output_dir_split))\n",
        "    \n",
        "    for (gui, png) in tqdm(filenames[split]):\n",
        "        src_path_gui = os.path.join(raw_data_dir, gui)\n",
        "        output_path_gui = os.path.join(output_dir_split, gui)\n",
        "        src_path_png = os.path.join(raw_data_dir, png)\n",
        "        output_path_png = os.path.join(output_dir_split, png)\n",
        "        \n",
        "        copyfile(src_path_gui, output_path_gui)\n",
        "        copyfile(src_path_png, output_path_png)"
      ],
      "metadata": {
        "id": "R1LD_ezhouYl"
      },
      "execution_count": null,
      "outputs": []
    },
    {
      "cell_type": "markdown",
      "source": [
        "Build Vocab"
      ],
      "metadata": {
        "id": "IeK-pHT-FsDp"
      }
    },
    {
      "cell_type": "code",
      "source": [
        "def load_doc(filename):\n",
        "    file = open(filename, 'r')\n",
        "    text = file.read()\n",
        "    file.close()\n",
        "    return text"
      ],
      "metadata": {
        "id": "-YSrvMG5FtEc"
      },
      "execution_count": null,
      "outputs": []
    },
    {
      "cell_type": "code",
      "source": [
        "class Vocabulary (object):\n",
        "    def __init__ (self):\n",
        "        self.word2idx = {}\n",
        "        self.idx2word = {}\n",
        "        self.idx = 0\n",
        "        \n",
        "    def add_word (self, word):\n",
        "        if not word in self.word2idx:\n",
        "            self.word2idx[word] = self.idx\n",
        "            self.idx2word[self.idx] = word\n",
        "            self.idx += 1\n",
        "    \n",
        "    def __call__ (self, word):\n",
        "        if not word in self.word2idx:\n",
        "            return self.word2idx['<unk>']\n",
        "        return self.word2idx[word]\n",
        "    \n",
        "    def __len__ (self):\n",
        "        return len(self.word2idx)"
      ],
      "metadata": {
        "id": "Adxv6l4MFt00"
      },
      "execution_count": null,
      "outputs": []
    },
    {
      "cell_type": "code",
      "source": [
        "def build_vocab (vocab_file_path):\n",
        "    vocab = Vocabulary()\n",
        "\n",
        "    words_raw = load_doc(vocab_file_path)\n",
        "    words = set(words_raw.split(' '))\n",
        "    \n",
        "    for i, word in enumerate(words):\n",
        "        vocab.add_word(word)\n",
        "\n",
        "    vocab.add_word(' ')\n",
        "    vocab.add_word('<unk>')     \n",
        "    print('Created vocabulary of ' + str(len(vocab)) + ' items from ' + vocab_file_path)\n",
        "    \n",
        "    return vocab\n"
      ],
      "metadata": {
        "id": "_XVt73RCFwXs"
      },
      "execution_count": null,
      "outputs": []
    },
    {
      "cell_type": "code",
      "source": [
        "vocab = build_vocab(vocab_path)\n",
        "\n",
        "vocab_size = len(vocab)"
      ],
      "metadata": {
        "colab": {
          "base_uri": "https://localhost:8080/"
        },
        "id": "sSKk32g8FyRx",
        "outputId": "4b5d06b8-3856-47dd-a191-7480b8460b13"
      },
      "execution_count": null,
      "outputs": [
        {
          "output_type": "stream",
          "name": "stdout",
          "text": [
            "Created vocabulary of 19 items from /content/drive/MyDrive/DL/final_project/pix2code/bootstrap.vocab\n"
          ]
        }
      ]
    },
    {
      "cell_type": "code",
      "source": [
        "!pip install vit_pytorch"
      ],
      "metadata": {
        "id": "vka1F05-3DyL",
        "colab": {
          "base_uri": "https://localhost:8080/"
        },
        "outputId": "f8bb585d-70a1-4b35-bfe4-f7b27978cfb0"
      },
      "execution_count": null,
      "outputs": [
        {
          "output_type": "stream",
          "name": "stdout",
          "text": [
            "Collecting vit_pytorch\n",
            "  Downloading vit_pytorch-0.35.2-py3-none-any.whl (68 kB)\n",
            "\u001b[?25l\r\u001b[K     |████▊                           | 10 kB 34.4 MB/s eta 0:00:01\r\u001b[K     |█████████▌                      | 20 kB 42.3 MB/s eta 0:00:01\r\u001b[K     |██████████████▎                 | 30 kB 49.0 MB/s eta 0:00:01\r\u001b[K     |███████████████████             | 40 kB 33.3 MB/s eta 0:00:01\r\u001b[K     |███████████████████████▉        | 51 kB 32.8 MB/s eta 0:00:01\r\u001b[K     |████████████████████████████▋   | 61 kB 35.9 MB/s eta 0:00:01\r\u001b[K     |████████████████████████████████| 68 kB 6.7 MB/s \n",
            "\u001b[?25hRequirement already satisfied: torch>=1.10 in /usr/local/lib/python3.7/dist-packages (from vit_pytorch) (1.11.0+cu113)\n",
            "Requirement already satisfied: torchvision in /usr/local/lib/python3.7/dist-packages (from vit_pytorch) (0.12.0+cu113)\n",
            "Collecting einops>=0.4.1\n",
            "  Downloading einops-0.4.1-py3-none-any.whl (28 kB)\n",
            "Requirement already satisfied: typing-extensions in /usr/local/lib/python3.7/dist-packages (from torch>=1.10->vit_pytorch) (4.2.0)\n",
            "Requirement already satisfied: numpy in /usr/local/lib/python3.7/dist-packages (from torchvision->vit_pytorch) (1.21.6)\n",
            "Requirement already satisfied: pillow!=8.3.*,>=5.3.0 in /usr/local/lib/python3.7/dist-packages (from torchvision->vit_pytorch) (7.1.2)\n",
            "Requirement already satisfied: requests in /usr/local/lib/python3.7/dist-packages (from torchvision->vit_pytorch) (2.23.0)\n",
            "Requirement already satisfied: certifi>=2017.4.17 in /usr/local/lib/python3.7/dist-packages (from requests->torchvision->vit_pytorch) (2021.10.8)\n",
            "Requirement already satisfied: idna<3,>=2.5 in /usr/local/lib/python3.7/dist-packages (from requests->torchvision->vit_pytorch) (2.10)\n",
            "Requirement already satisfied: urllib3!=1.25.0,!=1.25.1,<1.26,>=1.21.1 in /usr/local/lib/python3.7/dist-packages (from requests->torchvision->vit_pytorch) (1.24.3)\n",
            "Requirement already satisfied: chardet<4,>=3.0.2 in /usr/local/lib/python3.7/dist-packages (from requests->torchvision->vit_pytorch) (3.0.4)\n",
            "Installing collected packages: einops, vit-pytorch\n",
            "Successfully installed einops-0.4.1 vit-pytorch-0.35.2\n"
          ]
        }
      ]
    },
    {
      "cell_type": "markdown",
      "source": [
        "Build Images and Captions"
      ],
      "metadata": {
        "id": "dV9Z0q0CF6aH"
      }
    },
    {
      "cell_type": "code",
      "source": [
        "class ImageHTMLDataSet (Dataset):\n",
        "    def __init__ (self, data_dir, vocab, transform):\n",
        "        self.data_dir = data_dir\n",
        "        self.vocab = vocab\n",
        "        self.transform = transform\n",
        "        \n",
        "        self.raw_image_names = []\n",
        "        self.raw_captions = []\n",
        "        \n",
        "        self.filenames = os.listdir(data_dir)\n",
        "        self.filenames.sort()\n",
        "        \n",
        "        for filename in self.filenames:\n",
        "            if filename[-3:] == 'png':\n",
        "                self.raw_image_names.append(filename)\n",
        "            elif filename[-3:] == 'gui':\n",
        "                data = load_doc(data_dir + filename)\n",
        "                self.raw_captions.append(data)\n",
        "                \n",
        "        print('Created dataset of ' + str(len(self)) + ' items from ' + data_dir)\n",
        "\n",
        "    def __len__ (self):\n",
        "        return len(self.raw_image_names)\n",
        "    \n",
        "    def __getitem__ (self, idx):\n",
        "        img_path, raw_caption = self.raw_image_names[idx], self.raw_captions[idx]\n",
        "        \n",
        "        # Get image from filesystem\n",
        "        image = Image.open(os.path.join(self.data_dir, img_path)).convert('RGB')\n",
        "        image = self.transform(image)\n",
        "        \n",
        "        # Convert caption (string) to list of vocab ID's\n",
        "        caption = []\n",
        "        caption.append(self.vocab('<START>'))\n",
        "        \n",
        "        # Remove newlines, separate words with spaces\n",
        "        tokens = ' '.join(raw_caption.split())\n",
        "\n",
        "        # Add space after each comma\n",
        "        tokens = tokens.replace(',', ' ,')\n",
        "        \n",
        "        # Split into words\n",
        "        tokens = tokens.split(' ')\n",
        "        \n",
        "        caption.extend([self.vocab(token) for token in tokens])\n",
        "        caption.append(self.vocab('<END>'))\n",
        "        \n",
        "        target = torch.Tensor(caption)\n",
        "        \n",
        "        return image, target\n",
        "\n",
        "# See https://github.com/yunjey/pytorch-tutorial/tree/master/tutorials/03-advanced/image_captioning\n",
        "def collate_fn (data):\n",
        "    # Sort datalist by caption length; descending order\n",
        "    data.sort(key = lambda data_pair: len(data_pair[1]), reverse=True)\n",
        "    images, captions = zip(*data)\n",
        "    \n",
        "    # Merge images (from tuple of 3D Tensor to 4D Tensor)\n",
        "    images = torch.stack(images, 0)\n",
        "    \n",
        "    # Merge captions (from tuple of 1D tensor to 2D tensor)\n",
        "    lengths = [len(caption) for caption in captions] # List of caption lengths\n",
        "    targets = torch.zeros(len(captions), max(lengths)).long()\n",
        "    \n",
        "    for i, caption in enumerate(captions):\n",
        "        end = lengths[i]\n",
        "        targets[i, :end] = caption[:end]\n",
        "        \n",
        "    return images, targets, lengths"
      ],
      "metadata": {
        "id": "XvHgcoRaF4Yv"
      },
      "execution_count": null,
      "outputs": []
    },
    {
      "cell_type": "code",
      "source": [
        "transform = transforms.Compose([\n",
        "    transforms.Resize((crop_size, crop_size)), # Match resnet size\n",
        "    transforms.ToTensor(),\n",
        "    transforms.Normalize(mean=[0.485, 0.456, 0.406], std=[0.229, 0.224, 0.225])\n",
        "])\n",
        "\n",
        "img_html_dataset = ImageHTMLDataSet(data_dir=data_dir, vocab=vocab, transform=transform)\n",
        "data_loader = DataLoader(dataset=img_html_dataset,\n",
        "                         batch_size=batch_size,\n",
        "                         shuffle=shuffle,\n",
        "                         num_workers=num_workers,\n",
        "                         collate_fn=collate_fn)"
      ],
      "metadata": {
        "id": "jLY7DK1uGCzo",
        "colab": {
          "base_uri": "https://localhost:8080/"
        },
        "outputId": "d84277f8-416d-466e-b725-eb705df51655"
      },
      "execution_count": null,
      "outputs": [
        {
          "output_type": "stream",
          "name": "stdout",
          "text": [
            "Created dataset of 1393 items from /content/drive/MyDrive/DL/final_project/pix2code/datasets/web/processed_data/data_train/\n"
          ]
        }
      ]
    },
    {
      "cell_type": "code",
      "source": [
        "next(iter(data_loader))[0].shape"
      ],
      "metadata": {
        "colab": {
          "base_uri": "https://localhost:8080/"
        },
        "id": "spcRO0dVS29g",
        "outputId": "ea87ae45-2223-4078-aede-89d16522cd5e"
      },
      "execution_count": null,
      "outputs": [
        {
          "output_type": "execute_result",
          "data": {
            "text/plain": [
              "torch.Size([4, 3, 224, 224])"
            ]
          },
          "metadata": {},
          "execution_count": 13
        }
      ]
    },
    {
      "cell_type": "markdown",
      "source": [
        "Encoder"
      ],
      "metadata": {
        "id": "csUCWAiQGL1h"
      }
    },
    {
      "cell_type": "code",
      "source": [
        "MAX_LENGTH = 5"
      ],
      "metadata": {
        "id": "Q8JmyjkeYF8P"
      },
      "execution_count": null,
      "outputs": []
    },
    {
      "cell_type": "code",
      "source": [
        "class Encoder(nn.Module):\n",
        "    def __init__(self, encoded_image_size=2048):\n",
        "        super(Encoder, self).__init__()\n",
        "        self.enc_image_size = encoded_image_size\n",
        "\n",
        "        resnet = torchvision.models.resnet101(pretrained=True) \n",
        "        modules = list(resnet.children())[:-1]\n",
        "        self.resnet = nn.Sequential(*modules)\n",
        "\n",
        "        self.linear = nn.Linear(in_features = resnet.fc.in_features, out_features = encoded_image_size)\n",
        "        self.bn = nn.BatchNorm1d(num_features = encoded_image_size, momentum = 0.01)\n",
        "      \n",
        "        self.fine_tune()\n",
        "\n",
        "    def forward(self, images):\n",
        "\n",
        "        out = self.resnet(images)\n",
        "        out = out.view(out.size(0), -1)\n",
        "        out = self.linear(out)\n",
        "        out = self.bn(out)\n",
        "        return out\n",
        "\n",
        "    def fine_tune(self, fine_tune=True):\n",
        "        for p in self.resnet.parameters():\n",
        "            p.requires_grad = False\n",
        "        for c in list(self.resnet.children())[5:]:\n",
        "            for p in c.parameters():\n",
        "                p.requires_grad = fine_tune\n"
      ],
      "metadata": {
        "id": "Nb56qPF3Ccp7"
      },
      "execution_count": null,
      "outputs": []
    },
    {
      "cell_type": "code",
      "source": [
        "import torch\n",
        "from torch import nn\n",
        "import torchvision\n",
        "\n",
        "device = torch.device(\"cuda\" if torch.cuda.is_available() else \"cpu\")\n",
        "\n",
        "class Attention(nn.Module):\n",
        "    \"\"\"\n",
        "    Attention Network.\n",
        "    \"\"\"\n",
        "\n",
        "    def __init__(self, encoder_dim, decoder_dim, attention_dim):\n",
        "        super(Attention, self).__init__()\n",
        "        self.encoder_att = nn.Linear(encoder_dim, attention_dim)  \n",
        "        self.decoder_att = nn.Linear(decoder_dim, attention_dim) \n",
        "        self.full_att = nn.Linear(attention_dim, 1) \n",
        "        self.relu = nn.ReLU()\n",
        "        self.softmax = nn.Softmax(dim=1) \n",
        "\n",
        "    def forward(self, encoder_out, decoder_hidden):\n",
        "        att1 = self.encoder_att(encoder_out)  \n",
        "        att2 = self.decoder_att(decoder_hidden) \n",
        "        att = self.full_att(self.relu(att1 + att2.unsqueeze(1))).squeeze(2)  \n",
        "        alpha = self.softmax(att)  \n",
        "        attention_weighted_encoding = (encoder_out * alpha.unsqueeze(2)).sum(dim=1)  \n",
        "        return attention_weighted_encoding, alpha\n",
        "\n",
        "\n",
        "class DecoderWithAttention(nn.Module):\n",
        "\n",
        "    def __init__(self, attention_dim, embed_dim, decoder_dim, vocab_size, encoder_dim=2048, dropout=0.5):\n",
        "        super(DecoderWithAttention, self).__init__()\n",
        "\n",
        "        self.encoder_dim = encoder_dim\n",
        "        self.attention_dim = attention_dim\n",
        "        self.embed_dim = embed_dim\n",
        "        self.decoder_dim = decoder_dim\n",
        "        self.vocab_size = vocab_size\n",
        "        self.dropout = dropout\n",
        "\n",
        "        self.attention = Attention(encoder_dim, decoder_dim, attention_dim)  \n",
        "\n",
        "        self.embedding = nn.Embedding(vocab_size, embed_dim)\n",
        "        self.dropout = nn.Dropout(p=self.dropout)\n",
        "        self.decode_step = nn.LSTMCell(embed_dim + encoder_dim, decoder_dim, bias=True)  \n",
        "        self.init_h = nn.Linear(encoder_dim, decoder_dim)  \n",
        "        self.init_c = nn.Linear(encoder_dim, decoder_dim)  \n",
        "        self.f_beta = nn.Linear(decoder_dim, encoder_dim)\n",
        "        self.sigmoid = nn.Sigmoid()\n",
        "        self.fc = nn.Linear(decoder_dim, vocab_size)  \n",
        "        self.init_weights()  \n",
        "    def init_weights(self):\n",
        "        self.embedding.weight.data.uniform_(-0.1, 0.1)\n",
        "        self.fc.bias.data.fill_(0)\n",
        "        self.fc.weight.data.uniform_(-0.1, 0.1)\n",
        "\n",
        "    def load_pretrained_embeddings(self, embeddings):\n",
        "        self.embedding.weight = nn.Parameter(embeddings)\n",
        "\n",
        "    def fine_tune_embeddings(self, fine_tune=True):\n",
        "        for p in self.embedding.parameters():\n",
        "            p.requires_grad = fine_tune\n",
        "\n",
        "    def init_hidden_state(self, encoder_out):\n",
        "        mean_encoder_out = encoder_out.mean(dim=1)\n",
        "        h = self.init_h(mean_encoder_out) \n",
        "        c = self.init_c(mean_encoder_out)\n",
        "        return h, c\n",
        "\n",
        "    def forward(self, encoder_out, encoded_captions, caption_lengths):\n",
        "\n",
        "        batch_size = encoder_out.size(0)\n",
        "        encoder_dim = encoder_out.size(-1)\n",
        "        vocab_size = self.vocab_size\n",
        "\n",
        "        encoder_out = encoder_out.view(batch_size, -1, encoder_dim)  \n",
        "        num_pixels = encoder_out.size(1)\n",
        "        caption_lengths, sort_ind = caption_lengths.squeeze(1).sort(dim=0, descending=True)\n",
        "        encoder_out = encoder_out[sort_ind]\n",
        "        encoded_captions = encoded_captions[sort_ind]\n",
        "\n",
        "        embeddings = self.embedding(encoded_captions) \n",
        "\n",
        "        h, c = self.init_hidden_state(encoder_out) \n",
        "\n",
        "        decode_lengths = (caption_lengths - 1).tolist()\n",
        "\n",
        "\n",
        "        predictions = torch.zeros(batch_size, max(decode_lengths), vocab_size).to(device)\n",
        "        alphas = torch.zeros(batch_size, max(decode_lengths), num_pixels).to(device)\n",
        "\n",
        "        for t in range(max(decode_lengths)):\n",
        "            batch_size_t = sum([l > t for l in decode_lengths])\n",
        "            attention_weighted_encoding, alpha = self.attention(encoder_out[:batch_size_t],\n",
        "                                                                h[:batch_size_t])\n",
        "            gate = self.sigmoid(self.f_beta(h[:batch_size_t]))\n",
        "            attention_weighted_encoding = gate * attention_weighted_encoding\n",
        "            h, c = self.decode_step(\n",
        "                torch.cat([embeddings[:batch_size_t, t, :], attention_weighted_encoding], dim=1),\n",
        "                (h[:batch_size_t], c[:batch_size_t]))  \n",
        "            preds = self.fc(self.dropout(h))  \n",
        "            predictions[:batch_size_t, t, :] = preds\n",
        "            alphas[:batch_size_t, t, :] = alpha\n",
        "\n",
        "        return predictions, encoded_captions, decode_lengths, alphas, sort_ind"
      ],
      "metadata": {
        "id": "VTU5VvWYaXot"
      },
      "execution_count": null,
      "outputs": []
    },
    {
      "cell_type": "code",
      "source": [
        "import torch\n",
        "from vit_pytorch.vit import ViT\n",
        "\n",
        "encoder_vit = ViT(\n",
        "    image_size = 256,\n",
        "    patch_size = 32,\n",
        "    num_classes = 1000,\n",
        "    dim = 2048,\n",
        "    depth = 6,\n",
        "    heads = 16,\n",
        "    mlp_dim = 2048,\n",
        "    dropout = 0.1,\n",
        "    emb_dropout = 0.1\n",
        ")\n",
        "\n",
        "from vit_pytorch.extractor import Extractor\n",
        "v = Extractor(encoder_vit)\n"
      ],
      "metadata": {
        "id": "uusHr3LH3AAv"
      },
      "execution_count": null,
      "outputs": []
    },
    {
      "cell_type": "code",
      "source": [
        "decoder = DecoderWithAttention(attention_dim=attention_dim,\n",
        "                                       embed_dim=embed_size,\n",
        "                                       decoder_dim=decoder_dim,\n",
        "                                       vocab_size=len(vocab),\n",
        "                                       dropout=0.2)\n",
        "\n",
        "criterion = nn.CrossEntropyLoss()\n",
        "\n",
        "if torch.cuda.is_available():\n",
        "    encoder_vit.cuda()\n",
        "    decoder.cuda()\n",
        "    print('CUDA activated.')"
      ],
      "metadata": {
        "colab": {
          "base_uri": "https://localhost:8080/"
        },
        "id": "laOgGWsUGSl_",
        "outputId": "6eb7b519-9854-49a8-8b7f-cbc71bfe72d1"
      },
      "execution_count": null,
      "outputs": [
        {
          "output_type": "stream",
          "name": "stdout",
          "text": [
            "CUDA activated.\n"
          ]
        }
      ]
    },
    {
      "cell_type": "code",
      "source": [
        "decoder_optimizer = torch.optim.Adam(params=filter(lambda p: p.requires_grad, decoder.parameters()),\n",
        "                                             lr=decoder_lr)"
      ],
      "metadata": {
        "id": "Fu7G_kf2PNu3"
      },
      "execution_count": null,
      "outputs": []
    },
    {
      "cell_type": "code",
      "source": [
        "def clip_gradient(optimizer, grad_clip):\n",
        "    for group in optimizer.param_groups:\n",
        "        for param in group['params']:\n",
        "            if param.grad is not None:\n",
        "                param.grad.data.clamp_(-grad_clip, grad_clip)\n",
        "\n"
      ],
      "metadata": {
        "id": "mz6bBdQ6OwDN"
      },
      "execution_count": null,
      "outputs": []
    },
    {
      "cell_type": "code",
      "source": [
        "from collections import defaultdict\n",
        "history = defaultdict()\n",
        "history['loss'], history['perp'],history['time'] = [],[],[]"
      ],
      "metadata": {
        "id": "tyuCMkPZk6CM"
      },
      "execution_count": null,
      "outputs": []
    },
    {
      "cell_type": "code",
      "source": [
        "import time"
      ],
      "metadata": {
        "id": "REAq4hBFCk1j"
      },
      "execution_count": null,
      "outputs": []
    },
    {
      "cell_type": "code",
      "source": [
        "decoder.train()\n",
        "\n",
        "batch_count = len(data_loader)\n",
        "t0=time.time()\n",
        "for epoch in range(10):\n",
        "    for i, (images, captions, lengths) in enumerate(data_loader):\n",
        "        images = Variable(images.cuda())\n",
        "        captions = Variable(captions.cuda())\n",
        "\n",
        "        lengths = torch.tensor(lengths)\n",
        "        decoder.zero_grad()\n",
        "\n",
        "\n",
        "        _,features = v(images)\n",
        "        scores, caps_sorted, decode_lengths, alphas, sort_ind = decoder(features, captions, lengths.unsqueeze(1))\n",
        "\n",
        "        targets = captions[:,1:]\n",
        "        scores = nn.utils.rnn.pack_padded_sequence(scores, decode_lengths, batch_first=True)\n",
        "        targets = nn.utils.rnn.pack_padded_sequence(targets, decode_lengths, batch_first=True)\n",
        "\n",
        "        loss = criterion(scores.data.double(), targets.data)\n",
        "        loss.backward()\n",
        "\n",
        "        clip_gradient(decoder_optimizer, grad_clip)\n",
        "\n",
        "        decoder_optimizer.step()\n",
        "\n",
        "        \n",
        "        if epoch % log_step == 0 and i == 0:\n",
        "\n",
        "            history['loss'].append(loss.item())\n",
        "            history['perp'].append(np.exp(loss.item()))\n",
        "            history['time'].append(time.time())\n",
        "            print('Epoch: #%d Loss: %.4f, Perplexity: %5.4f'\n",
        "                  % (epoch, loss.item(), np.exp(loss.item())))\n",
        "            \n",
        "        if (epoch + 1) % save_after_x_epochs == 0 and i == 0:\n",
        "            print('Saving model ' + str(epoch+1))\n",
        "            torch.save(decoder.state_dict(),os.path.join(model_path, 'decoder-hp3-%d-%d.pkl' %(epoch+1, i+1)))\n",
        "            torch.save(encoder_vit.state_dict(), os.path.join(model_path, 'encoder-hp3-%d-%d.pkl' %(epoch+1, i+1)))\n",
        "\n",
        "timeTaken = time.time()-t0\n",
        "print('Done.')"
      ],
      "metadata": {
        "id": "z3nu2vYMGW4l",
        "colab": {
          "base_uri": "https://localhost:8080/"
        },
        "outputId": "7ccfe265-0711-430d-c6d4-89f4226f5b3f"
      },
      "execution_count": null,
      "outputs": [
        {
          "output_type": "stream",
          "name": "stdout",
          "text": [
            "Epoch: #0 Loss: 3.3053, Perplexity: 27.2581\n",
            "Epoch: #1 Loss: 0.3381, Perplexity: 1.4023\n",
            "Saving model 2\n",
            "Epoch: #2 Loss: 0.2226, Perplexity: 1.2493\n",
            "Epoch: #3 Loss: 0.2814, Perplexity: 1.3250\n",
            "Saving model 4\n",
            "Epoch: #4 Loss: 0.2286, Perplexity: 1.2568\n",
            "Epoch: #5 Loss: 0.2093, Perplexity: 1.2328\n",
            "Saving model 6\n",
            "Epoch: #6 Loss: 0.1982, Perplexity: 1.2192\n",
            "Epoch: #7 Loss: 0.2191, Perplexity: 1.2449\n",
            "Saving model 8\n",
            "Epoch: #8 Loss: 0.1900, Perplexity: 1.2092\n",
            "Epoch: #9 Loss: 0.1902, Perplexity: 1.2094\n",
            "Saving model 10\n",
            "Done.\n"
          ]
        }
      ]
    },
    {
      "cell_type": "code",
      "source": [
        "import os"
      ],
      "metadata": {
        "id": "SgcPz-o-imgH"
      },
      "execution_count": null,
      "outputs": []
    },
    {
      "cell_type": "code",
      "source": [
        "from matplotlib import pyplot as plt\n",
        "plt.plot(history['loss'])\n",
        "# plt.plot(history['perp'])"
      ],
      "metadata": {
        "colab": {
          "base_uri": "https://localhost:8080/",
          "height": 282
        },
        "id": "DUHZloAHrpUG",
        "outputId": "2dbc5464-2406-4fe8-815e-30f12706ab1c"
      },
      "execution_count": null,
      "outputs": [
        {
          "output_type": "execute_result",
          "data": {
            "text/plain": [
              "[<matplotlib.lines.Line2D at 0x7f159eefcc10>]"
            ]
          },
          "metadata": {},
          "execution_count": 85
        },
        {
          "output_type": "display_data",
          "data": {
            "text/plain": [
              "<Figure size 432x288 with 1 Axes>"
            ],
            "image/png": "[encoded data removed]"
          },
          "metadata": {
            "needs_background": "light"
          }
        }
      ]
    },
    {
      "cell_type": "code",
      "source": [
        "plt.plot(history['perp'])"
      ],
      "metadata": {
        "colab": {
          "base_uri": "https://localhost:8080/",
          "height": 282
        },
        "id": "z_ryl5Zsr1ty",
        "outputId": "473e52a7-eedd-4b19-d253-c2126509f516"
      },
      "execution_count": null,
      "outputs": [
        {
          "output_type": "execute_result",
          "data": {
            "text/plain": [
              "[<matplotlib.lines.Line2D at 0x7f159ee56150>]"
            ]
          },
          "metadata": {},
          "execution_count": 86
        },
        {
          "output_type": "display_data",
          "data": {
            "text/plain": [
              "<Figure size 432x288 with 1 Axes>"
            ],
            "image/png": "[encoded data removed]"
          },
          "metadata": {
            "needs_background": "light"
          }
        }
      ]
    },
    {
      "cell_type": "code",
      "source": [
        "plt.plot(history['time'])"
      ],
      "metadata": {
        "colab": {
          "base_uri": "https://localhost:8080/",
          "height": 293
        },
        "id": "BULK4889IgK3",
        "outputId": "4b3d91c2-a716-48a7-e012-7a50de10f887"
      },
      "execution_count": null,
      "outputs": [
        {
          "output_type": "execute_result",
          "data": {
            "text/plain": [
              "[<matplotlib.lines.Line2D at 0x7f159ee00310>]"
            ]
          },
          "metadata": {},
          "execution_count": 87
        },
        {
          "output_type": "display_data",
          "data": {
            "text/plain": [
              "<Figure size 432x288 with 1 Axes>"
            ],
            "image/png": "[encoded data removed]"
          },
          "metadata": {
            "needs_background": "light"
          }
        }
      ]
    },
    {
      "cell_type": "code",
      "source": [
        "import json\n",
        "\n",
        "with open(base_path+'/history_hp3.json','w') as f:\n",
        "  json.dump(history,f)"
      ],
      "metadata": {
        "id": "-ZrMB-ZAIv9d"
      },
      "execution_count": null,
      "outputs": []
    },
    {
      "cell_type": "markdown",
      "source": [
        "Eval"
      ],
      "metadata": {
        "id": "8vvSXlSnGgNs"
      }
    },
    {
      "cell_type": "code",
      "source": [
        "from nltk.translate.bleu_score import corpus_bleu"
      ],
      "metadata": {
        "id": "VgAY2yCpGgoR"
      },
      "execution_count": null,
      "outputs": []
    },
    {
      "cell_type": "code",
      "source": [
        "def transform_idx_to_words (input):\n",
        "    sampled_caption = []\n",
        "    \n",
        "    for idx in input:\n",
        "        word = vocab.idx2word[idx]\n",
        "        sampled_caption.append(word)\n",
        "\n",
        "        if word == '<END>':\n",
        "            break\n",
        "\n",
        "    output = ' '.join(sampled_caption[1:-1])\n",
        "\n",
        "    output = output.replace(' ,', ',')\n",
        "\n",
        "    return output.split(' ')"
      ],
      "metadata": {
        "id": "xqOfwGilGihO"
      },
      "execution_count": null,
      "outputs": []
    },
    {
      "cell_type": "code",
      "source": [
        "dev_data_dir = base_path+'/datasets/web/processed_data/data_dev/'\n",
        "\n",
        "# Assume format: \"encoder-# epoch-# iter.pkl\"\n",
        "models_to_test = ['2-1','4-1','6-1','8-1','10-1']"
      ],
      "metadata": {
        "id": "uEJ6mc-iGmG1"
      },
      "execution_count": null,
      "outputs": []
    },
    {
      "cell_type": "code",
      "source": [
        "vocab.word2idx"
      ],
      "metadata": {
        "id": "9nc8xAncJtuD"
      },
      "execution_count": null,
      "outputs": []
    },
    {
      "cell_type": "code",
      "source": [
        "import tqdm"
      ],
      "metadata": {
        "id": "WR5zK9itJ9x9"
      },
      "execution_count": null,
      "outputs": []
    },
    {
      "cell_type": "markdown",
      "source": [
        "Eval"
      ],
      "metadata": {
        "id": "yevAL5YT2xOR"
      }
    },
    {
      "cell_type": "code",
      "source": [
        "bleu_scores = []\n",
        "\n",
        "for model_idx, model_name in enumerate(models_to_test):\n",
        "    decoder_model_path = os.path.join('/content/drive/MyDrive/DL/final_project/pix2code/model/decoder-hp3-{}.pkl'.format(model_name))\n",
        "    \n",
        "    dev_img_html_dataset = ImageHTMLDataSet(data_dir=dev_data_dir, vocab=vocab, transform=transform)\n",
        "    \n",
        "    dev_data_loader = DataLoader(dataset=dev_img_html_dataset,\n",
        "                             batch_size=1,\n",
        "                             shuffle=shuffle,\n",
        "                             num_workers=num_workers,\n",
        "                             collate_fn=collate_fn)\n",
        "    \n",
        "    dev_encoder = v\n",
        "    dev_decoder = DecoderWithAttention(attention_dim=attention_dim,\n",
        "                                       embed_dim=embed_size,\n",
        "                                       decoder_dim=decoder_dim,\n",
        "                                       vocab_size=len(vocab),\n",
        "                                       dropout=0.2)\n",
        "\n",
        "    dev_decoder.load_state_dict(torch.load(decoder_model_path))\n",
        "\n",
        "    if torch.cuda.is_available():\n",
        "        dev_encoder.cuda()\n",
        "        dev_decoder.cuda()\n",
        "\n",
        "    dev_decoder.eval()\n",
        "    \n",
        "    dev_data_count = len(dev_data_loader.dataset)\n",
        "\n",
        "    predicted, actual = list(), list()\n",
        "    bleu=0.\n",
        "    for i, (images, captions, lengths) in enumerate(dev_data_loader):\n",
        "        images = Variable(images.cuda())\n",
        "\n",
        "        captions = Variable(captions.cuda())\n",
        "        lengths = torch.tensor(lengths)\n",
        "\n",
        "        dev_decoder.zero_grad()\n",
        "        \n",
        "        _,features = dev_encoder(images)\n",
        "        scores, caps_sorted, decode_lengths, alphas, sort_ind = dev_decoder(features, captions, lengths.unsqueeze(1))\n",
        "\n",
        "        targets = captions[:,1:]\n",
        "\n",
        "        scores = nn.utils.rnn.pack_padded_sequence(scores, decode_lengths, batch_first=True)\n",
        "        targets = nn.utils.rnn.pack_padded_sequence(targets, decode_lengths, batch_first=True)\n",
        "\n",
        "        predicted = list(np.argmax(scores.data.detach().cpu().numpy(),axis=1))\n",
        "        actual = list(targets.data.detach().cpu().numpy())\n",
        "\n",
        "\n",
        "        predicted = [vocab.idx2word[item] for item in predicted]\n",
        "        actual = [vocab.idx2word[item] for item in actual]\n",
        "\n",
        "    \n",
        "        bleu+=corpus_bleu(actual, predicted)\n",
        "    \n",
        "    bleu_scores.append((model_name, bleu/len(dev_data_loader.dataset)))\n",
        "                    \n",
        "    print('done with {} items for model: {}'.format(str(len(predicted)), model_name))"
      ],
      "metadata": {
        "colab": {
          "base_uri": "https://localhost:8080/"
        },
        "id": "v_LQaeiPK7tu",
        "outputId": "6d381e3a-ffd6-4586-8ed8-cda0b3fcc22f"
      },
      "execution_count": null,
      "outputs": [
        {
          "output_type": "stream",
          "name": "stdout",
          "text": [
            "Created dataset of 174 items from /content/drive/MyDrive/DL/final_project/pix2code/datasets/web/processed_data/data_dev/\n"
          ]
        },
        {
          "output_type": "stream",
          "name": "stderr",
          "text": [
            "/usr/local/lib/python3.7/dist-packages/nltk/translate/bleu_score.py:490: UserWarning: \n",
            "Corpus/Sentence contains 0 counts of 2-gram overlaps.\n",
            "BLEU scores might be undesirable; use SmoothingFunction().\n",
            "  warnings.warn(_msg)\n"
          ]
        },
        {
          "output_type": "stream",
          "name": "stdout",
          "text": [
            "done with 74 items for model: 2-1\n",
            "Created dataset of 174 items from /content/drive/MyDrive/DL/final_project/pix2code/datasets/web/processed_data/data_dev/\n",
            "done with 74 items for model: 4-1\n",
            "Created dataset of 174 items from /content/drive/MyDrive/DL/final_project/pix2code/datasets/web/processed_data/data_dev/\n",
            "done with 78 items for model: 6-1\n",
            "Created dataset of 174 items from /content/drive/MyDrive/DL/final_project/pix2code/datasets/web/processed_data/data_dev/\n",
            "done with 76 items for model: 8-1\n",
            "Created dataset of 174 items from /content/drive/MyDrive/DL/final_project/pix2code/datasets/web/processed_data/data_dev/\n",
            "done with 78 items for model: 10-1\n"
          ]
        }
      ]
    },
    {
      "cell_type": "code",
      "source": [
        "bleu_scores"
      ],
      "metadata": {
        "colab": {
          "base_uri": "https://localhost:8080/"
        },
        "id": "okSMd9IqLMrk",
        "outputId": "21eade82-d6b3-48e3-d36d-bf5b5bae8dc3"
      },
      "execution_count": null,
      "outputs": [
        {
          "output_type": "execute_result",
          "data": {
            "text/plain": [
              "[('2-1', 0.6727577127730313),\n",
              " ('4-1', 0.6610520548849329),\n",
              " ('6-1', 0.6597872324321675),\n",
              " ('8-1', 0.6577530621330517),\n",
              " ('10-1', 0.6430789998994517)]"
            ]
          },
          "metadata": {},
          "execution_count": 30
        }
      ]
    },
    {
      "cell_type": "markdown",
      "source": [
        "# **Test**"
      ],
      "metadata": {
        "id": "ytiEOsd02z8R"
      }
    },
    {
      "cell_type": "code",
      "source": [
        "test_data_dir = base_path+'/datasets/web/processed_data/data_test/'\n",
        "\n",
        "chosen_model = ['2-1']"
      ],
      "metadata": {
        "id": "UpVQCA-y211u"
      },
      "execution_count": null,
      "outputs": []
    },
    {
      "cell_type": "code",
      "source": [
        "bleu_scores = []\n",
        "\n",
        "for model_idx, model_name in enumerate(chosen_model):\n",
        "    decoder_model_path = os.path.join('/content/drive/MyDrive/DL/final_project/pix2code/model/decoder-hp3-{}.pkl'.format(model_name))\n",
        "    \n",
        "    dev_img_html_dataset = ImageHTMLDataSet(data_dir=test_data_dir, vocab=vocab, transform=transform)\n",
        "    \n",
        "    dev_data_loader = DataLoader(dataset=dev_img_html_dataset,\n",
        "                             batch_size=1,\n",
        "                             shuffle=shuffle,\n",
        "                             num_workers=num_workers,\n",
        "                             collate_fn=collate_fn)\n",
        "    \n",
        "    dev_encoder = v\n",
        "    dev_decoder = DecoderWithAttention(attention_dim=attention_dim,\n",
        "                                       embed_dim=embed_size,\n",
        "                                       decoder_dim=decoder_dim,\n",
        "                                       vocab_size=len(vocab),\n",
        "                                       dropout=0.2)\n",
        "\n",
        "    dev_decoder.load_state_dict(torch.load(decoder_model_path))\n",
        "\n",
        "    if torch.cuda.is_available():\n",
        "        dev_encoder.cuda()\n",
        "        dev_decoder.cuda()\n",
        "\n",
        "    dev_decoder.eval()\n",
        "    \n",
        "    dev_data_count = len(dev_data_loader.dataset)\n",
        "\n",
        "    predicted, actual = list(), list()\n",
        "    bleu=0.\n",
        "    for i, (images, captions, lengths) in enumerate(dev_data_loader):\n",
        "        images = Variable(images.cuda())\n",
        "\n",
        "        captions = Variable(captions.cuda())\n",
        "        lengths = torch.tensor(lengths)\n",
        "\n",
        "        dev_decoder.zero_grad()\n",
        "        \n",
        "        _,features = dev_encoder(images)\n",
        "        scores, caps_sorted, decode_lengths, alphas, sort_ind = dev_decoder(features, captions, lengths.unsqueeze(1))\n",
        "\n",
        "        targets = captions[:,1:]\n",
        "\n",
        "        scores = nn.utils.rnn.pack_padded_sequence(scores, decode_lengths, batch_first=True)\n",
        "        targets = nn.utils.rnn.pack_padded_sequence(targets, decode_lengths, batch_first=True)\n",
        "\n",
        "        predicted = list(np.argmax(scores.data.detach().cpu().numpy(),axis=1))\n",
        "        actual = list(targets.data.detach().cpu().numpy())\n",
        "\n",
        "\n",
        "        predicted = [vocab.idx2word[item] for item in predicted]\n",
        "        actual = [vocab.idx2word[item] for item in actual]\n",
        "\n",
        "    \n",
        "        bleu+=corpus_bleu(actual, predicted)\n",
        "    \n",
        "    bleu_scores.append((model_name, bleu/len(dev_data_loader.dataset)))\n",
        "                    \n",
        "    print('done with {} items for model: {}'.format(str(len(predicted)), model_name))"
      ],
      "metadata": {
        "id": "TJ8nOW6r3jgC",
        "colab": {
          "base_uri": "https://localhost:8080/"
        },
        "outputId": "47fdeb97-0e95-4ef9-f324-6d333c8fa0e3"
      },
      "execution_count": null,
      "outputs": [
        {
          "output_type": "stream",
          "name": "stdout",
          "text": [
            "Created dataset of 175 items from /content/drive/MyDrive/DL/final_project/pix2code/datasets/web/processed_data/data_test/\n"
          ]
        },
        {
          "output_type": "stream",
          "name": "stderr",
          "text": [
            "/usr/local/lib/python3.7/dist-packages/nltk/translate/bleu_score.py:490: UserWarning: \n",
            "Corpus/Sentence contains 0 counts of 2-gram overlaps.\n",
            "BLEU scores might be undesirable; use SmoothingFunction().\n",
            "  warnings.warn(_msg)\n"
          ]
        },
        {
          "output_type": "stream",
          "name": "stdout",
          "text": [
            "done with 50 items for model: 2-1\n"
          ]
        }
      ]
    },
    {
      "cell_type": "code",
      "source": [
        "bleu_scores"
      ],
      "metadata": {
        "colab": {
          "base_uri": "https://localhost:8080/"
        },
        "id": "IVVwaSMS_sE4",
        "outputId": "ba64d282-bcdf-47a6-b0cc-36e08bf71fc4"
      },
      "execution_count": null,
      "outputs": [
        {
          "output_type": "execute_result",
          "data": {
            "text/plain": [
              "[('2-1', 0.6010373674825444)]"
            ]
          },
          "metadata": {},
          "execution_count": 25
        }
      ]
    }
  ]
}